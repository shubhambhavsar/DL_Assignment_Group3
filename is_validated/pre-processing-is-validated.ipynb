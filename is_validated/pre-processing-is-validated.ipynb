{
 "cells": [
  {
   "cell_type": "code",
   "execution_count": 87,
   "id": "ab05228e",
   "metadata": {},
   "outputs": [],
   "source": [
    "import pandas as pd\n",
    "import numpy as np\n",
    "import ast\n",
    "import matplotlib.pyplot as plt\n",
    "import seaborn as sns\n",
    "from sklearn.model_selection import train_test_split\n",
    "from collections import Counter\n",
    "import warnings\n",
    "from sklearn.model_selection import train_test_split\n",
    "from sklearn.preprocessing import StandardScaler, OneHotEncoder\n",
    "warnings.filterwarnings(\"ignore\")\n",
    "from sklearn.compose import ColumnTransformer\n",
    "from sklearn.pipeline import Pipeline\n",
    "from imblearn.over_sampling import SMOTE"
   ]
  },
  {
   "cell_type": "code",
   "execution_count": 2,
   "id": "2eee4701",
   "metadata": {},
   "outputs": [],
   "source": [
    "file_path = 'yelp_dataset/yelp_academic_dataset_business.json'\n",
    "\n",
    "business_chunks = []\n",
    "\n",
    "# Reading the JSON file in chunks\n",
    "for chunk in pd.read_json(file_path, lines=True, chunksize=10000):\n",
    "    business_chunks.append(chunk)\n",
    "\n",
    "# Concatenating all chunks into a single DataFrame\n",
    "business_df_main = pd.concat(business_chunks, ignore_index=True)"
   ]
  },
  {
   "cell_type": "code",
   "execution_count": 3,
   "id": "1ea6f5c3",
   "metadata": {},
   "outputs": [],
   "source": [
    "file_path = 'yelp_dataset/yelp_academic_dataset_review.json'\n",
    "\n",
    "\n",
    "review_chunks = []\n",
    "\n",
    "# Reading the JSON file in chunks\n",
    "for chunk in pd.read_json(file_path, lines=True, chunksize=10000):\n",
    "    review_chunks.append(chunk) \n",
    "\n",
    "# Concatenating all chunks into a single DataFrame\n",
    "review_df_main = pd.concat(review_chunks, ignore_index=True)"
   ]
  },
  {
   "cell_type": "code",
   "execution_count": 4,
   "id": "ba7cd411",
   "metadata": {},
   "outputs": [
    {
     "data": {
      "text/plain": [
       "(150346, 14)"
      ]
     },
     "execution_count": 4,
     "metadata": {},
     "output_type": "execute_result"
    }
   ],
   "source": [
    "business_df_main.shape"
   ]
  },
  {
   "cell_type": "code",
   "execution_count": 5,
   "id": "89b86a17",
   "metadata": {},
   "outputs": [
    {
     "data": {
      "text/plain": [
       "(6990280, 9)"
      ]
     },
     "execution_count": 5,
     "metadata": {},
     "output_type": "execute_result"
    }
   ],
   "source": [
    "review_df_main.shape"
   ]
  },
  {
   "cell_type": "markdown",
   "id": "31a428b8",
   "metadata": {},
   "source": [
    "# Pre-Processing Business JSON"
   ]
  },
  {
   "cell_type": "code",
   "execution_count": 6,
   "id": "58562b0d",
   "metadata": {},
   "outputs": [
    {
     "name": "stdout",
     "output_type": "stream",
     "text": [
      "<class 'pandas.core.frame.DataFrame'>\n",
      "RangeIndex: 150346 entries, 0 to 150345\n",
      "Data columns (total 14 columns):\n",
      " #   Column        Non-Null Count   Dtype  \n",
      "---  ------        --------------   -----  \n",
      " 0   business_id   150346 non-null  object \n",
      " 1   name          150346 non-null  object \n",
      " 2   address       150346 non-null  object \n",
      " 3   city          150346 non-null  object \n",
      " 4   state         150346 non-null  object \n",
      " 5   postal_code   150346 non-null  object \n",
      " 6   latitude      150346 non-null  float64\n",
      " 7   longitude     150346 non-null  float64\n",
      " 8   stars         150346 non-null  float64\n",
      " 9   review_count  150346 non-null  int64  \n",
      " 10  is_open       150346 non-null  int64  \n",
      " 11  attributes    136602 non-null  object \n",
      " 12  categories    150243 non-null  object \n",
      " 13  hours         127123 non-null  object \n",
      "dtypes: float64(3), int64(2), object(9)\n",
      "memory usage: 16.1+ MB\n"
     ]
    }
   ],
   "source": [
    "business_df_main.info()"
   ]
  },
  {
   "cell_type": "code",
   "execution_count": 7,
   "id": "eb9d0e6b",
   "metadata": {},
   "outputs": [
    {
     "data": {
      "text/plain": [
       "0                             {'ByAppointmentOnly': 'True'}\n",
       "1                    {'BusinessAcceptsCreditCards': 'True'}\n",
       "2         {'BikeParking': 'True', 'BusinessAcceptsCredit...\n",
       "3         {'RestaurantsDelivery': 'False', 'OutdoorSeati...\n",
       "4         {'BusinessAcceptsCreditCards': 'True', 'Wheelc...\n",
       "                                ...                        \n",
       "150341    {'ByAppointmentOnly': 'False', 'RestaurantsPri...\n",
       "150342    {'BusinessAcceptsCreditCards': 'True', 'Restau...\n",
       "150343    {'RestaurantsPriceRange2': '1', 'BusinessAccep...\n",
       "150344    {'BusinessParking': '{'garage': False, 'street...\n",
       "150345    {'WheelchairAccessible': 'True', 'BusinessAcce...\n",
       "Name: attributes, Length: 150346, dtype: object"
      ]
     },
     "execution_count": 7,
     "metadata": {},
     "output_type": "execute_result"
    }
   ],
   "source": [
    "business_df_main['attributes']"
   ]
  },
  {
   "cell_type": "code",
   "execution_count": 8,
   "id": "f0d3d60a",
   "metadata": {},
   "outputs": [],
   "source": [
    "#let's convert this dictionary to features\n",
    "#Creating a DataFrame with binary indicators for each attribute\n",
    "attributes_df = pd.json_normalize(business_df_main['attributes'])\n"
   ]
  },
  {
   "cell_type": "code",
   "execution_count": 9,
   "id": "3056190f",
   "metadata": {},
   "outputs": [
    {
     "data": {
      "text/plain": [
       "(150346, 39)"
      ]
     },
     "execution_count": 9,
     "metadata": {},
     "output_type": "execute_result"
    }
   ],
   "source": [
    "attributes_df.shape"
   ]
  },
  {
   "cell_type": "code",
   "execution_count": 10,
   "id": "a68a50ae",
   "metadata": {},
   "outputs": [
    {
     "data": {
      "text/plain": [
       "(150346, 14)"
      ]
     },
     "execution_count": 10,
     "metadata": {},
     "output_type": "execute_result"
    }
   ],
   "source": [
    "business_df_main.shape"
   ]
  },
  {
   "cell_type": "code",
   "execution_count": 11,
   "id": "6ce38602",
   "metadata": {},
   "outputs": [
    {
     "data": {
      "text/plain": [
       "(150346, 53)"
      ]
     },
     "execution_count": 11,
     "metadata": {},
     "output_type": "execute_result"
    }
   ],
   "source": [
    "\n",
    "# Concatenate the new attributes DataFrame with the business features\n",
    "business_df_main = pd.concat([business_df_main, attributes_df], axis=1)\n",
    "\n",
    "business_df_main.shape"
   ]
  },
  {
   "cell_type": "code",
   "execution_count": 12,
   "id": "0f4ca08b",
   "metadata": {},
   "outputs": [
    {
     "data": {
      "text/plain": [
       "Index(['business_id', 'name', 'address', 'city', 'state', 'postal_code',\n",
       "       'latitude', 'longitude', 'stars', 'review_count', 'is_open',\n",
       "       'attributes', 'categories', 'hours', 'ByAppointmentOnly',\n",
       "       'BusinessAcceptsCreditCards', 'BikeParking', 'RestaurantsPriceRange2',\n",
       "       'CoatCheck', 'RestaurantsTakeOut', 'RestaurantsDelivery', 'Caters',\n",
       "       'WiFi', 'BusinessParking', 'WheelchairAccessible', 'HappyHour',\n",
       "       'OutdoorSeating', 'HasTV', 'RestaurantsReservations', 'DogsAllowed',\n",
       "       'Alcohol', 'GoodForKids', 'RestaurantsAttire', 'Ambience',\n",
       "       'RestaurantsTableService', 'RestaurantsGoodForGroups', 'DriveThru',\n",
       "       'NoiseLevel', 'GoodForMeal', 'BusinessAcceptsBitcoin', 'Smoking',\n",
       "       'Music', 'GoodForDancing', 'AcceptsInsurance', 'BestNights', 'BYOB',\n",
       "       'Corkage', 'BYOBCorkage', 'HairSpecializesIn', 'Open24Hours',\n",
       "       'RestaurantsCounterService', 'AgesAllowed', 'DietaryRestrictions'],\n",
       "      dtype='object')"
      ]
     },
     "execution_count": 12,
     "metadata": {},
     "output_type": "execute_result"
    }
   ],
   "source": [
    "business_df_main.columns"
   ]
  },
  {
   "cell_type": "code",
   "execution_count": 13,
   "id": "6861d537",
   "metadata": {},
   "outputs": [],
   "source": [
    "duplicate_columns = business_df_main.columns[business_df_main.columns.duplicated()]\n",
    "\n",
    "if duplicate_columns.any():\n",
    "    print(\"Duplicate columns found:\", duplicate_columns)"
   ]
  },
  {
   "cell_type": "code",
   "execution_count": 14,
   "id": "56436a92",
   "metadata": {},
   "outputs": [
    {
     "name": "stdout",
     "output_type": "stream",
     "text": [
      "<class 'pandas.core.frame.DataFrame'>\n",
      "RangeIndex: 150346 entries, 0 to 150345\n",
      "Data columns (total 53 columns):\n",
      " #   Column                      Non-Null Count   Dtype  \n",
      "---  ------                      --------------   -----  \n",
      " 0   business_id                 150346 non-null  object \n",
      " 1   name                        150346 non-null  object \n",
      " 2   address                     150346 non-null  object \n",
      " 3   city                        150346 non-null  object \n",
      " 4   state                       150346 non-null  object \n",
      " 5   postal_code                 150346 non-null  object \n",
      " 6   latitude                    150346 non-null  float64\n",
      " 7   longitude                   150346 non-null  float64\n",
      " 8   stars                       150346 non-null  float64\n",
      " 9   review_count                150346 non-null  int64  \n",
      " 10  is_open                     150346 non-null  int64  \n",
      " 11  attributes                  136602 non-null  object \n",
      " 12  categories                  150243 non-null  object \n",
      " 13  hours                       127123 non-null  object \n",
      " 14  ByAppointmentOnly           42339 non-null   object \n",
      " 15  BusinessAcceptsCreditCards  119765 non-null  object \n",
      " 16  BikeParking                 72638 non-null   object \n",
      " 17  RestaurantsPriceRange2      85314 non-null   object \n",
      " 18  CoatCheck                   5584 non-null    object \n",
      " 19  RestaurantsTakeOut          59857 non-null   object \n",
      " 20  RestaurantsDelivery         56282 non-null   object \n",
      " 21  Caters                      40127 non-null   object \n",
      " 22  WiFi                        56914 non-null   object \n",
      " 23  BusinessParking             91085 non-null   object \n",
      " 24  WheelchairAccessible        28953 non-null   object \n",
      " 25  HappyHour                   15171 non-null   object \n",
      " 26  OutdoorSeating              48802 non-null   object \n",
      " 27  HasTV                       45084 non-null   object \n",
      " 28  RestaurantsReservations     45247 non-null   object \n",
      " 29  DogsAllowed                 18284 non-null   object \n",
      " 30  Alcohol                     43189 non-null   object \n",
      " 31  GoodForKids                 53375 non-null   object \n",
      " 32  RestaurantsAttire           39255 non-null   object \n",
      " 33  Ambience                    44279 non-null   object \n",
      " 34  RestaurantsTableService     19982 non-null   object \n",
      " 35  RestaurantsGoodForGroups    44170 non-null   object \n",
      " 36  DriveThru                   7760 non-null    object \n",
      " 37  NoiseLevel                  37993 non-null   object \n",
      " 38  GoodForMeal                 29087 non-null   object \n",
      " 39  BusinessAcceptsBitcoin      17430 non-null   object \n",
      " 40  Smoking                     4567 non-null    object \n",
      " 41  Music                       7521 non-null    object \n",
      " 42  GoodForDancing              4628 non-null    object \n",
      " 43  AcceptsInsurance            5713 non-null    object \n",
      " 44  BestNights                  5694 non-null    object \n",
      " 45  BYOB                        4451 non-null    object \n",
      " 46  Corkage                     3553 non-null    object \n",
      " 47  BYOBCorkage                 1444 non-null    object \n",
      " 48  HairSpecializesIn           1065 non-null    object \n",
      " 49  Open24Hours                 39 non-null      object \n",
      " 50  RestaurantsCounterService   19 non-null      object \n",
      " 51  AgesAllowed                 129 non-null     object \n",
      " 52  DietaryRestrictions         31 non-null      object \n",
      "dtypes: float64(3), int64(2), object(48)\n",
      "memory usage: 60.8+ MB\n"
     ]
    }
   ],
   "source": [
    "business_df_main.info()"
   ]
  },
  {
   "cell_type": "code",
   "execution_count": 15,
   "id": "8b45ada4",
   "metadata": {},
   "outputs": [
    {
     "data": {
      "text/plain": [
       "business_id                    0.000000\n",
       "name                           0.000000\n",
       "address                        0.000000\n",
       "city                           0.000000\n",
       "state                          0.000000\n",
       "postal_code                    0.000000\n",
       "latitude                       0.000000\n",
       "longitude                      0.000000\n",
       "stars                          0.000000\n",
       "review_count                   0.000000\n",
       "is_open                        0.000000\n",
       "attributes                     9.141580\n",
       "categories                     0.068509\n",
       "hours                         15.446370\n",
       "ByAppointmentOnly             71.838958\n",
       "BusinessAcceptsCreditCards    20.340415\n",
       "BikeParking                   51.686111\n",
       "RestaurantsPriceRange2        43.254892\n",
       "CoatCheck                     96.285901\n",
       "RestaurantsTakeOut            60.187168\n",
       "RestaurantsDelivery           62.565017\n",
       "Caters                        73.310231\n",
       "WiFi                          62.144653\n",
       "BusinessParking               39.416413\n",
       "WheelchairAccessible          80.742421\n",
       "HappyHour                     89.909276\n",
       "OutdoorSeating                67.540207\n",
       "HasTV                         70.013170\n",
       "RestaurantsReservations       69.904753\n",
       "DogsAllowed                   87.838719\n",
       "Alcohol                       71.273596\n",
       "GoodForKids                   64.498557\n",
       "RestaurantsAttire             73.890227\n",
       "Ambience                      70.548601\n",
       "RestaurantsTableService       86.709324\n",
       "RestaurantsGoodForGroups      70.621101\n",
       "DriveThru                     94.838572\n",
       "NoiseLevel                    74.729624\n",
       "GoodForMeal                   80.653293\n",
       "BusinessAcceptsBitcoin        88.406742\n",
       "Smoking                       96.962340\n",
       "Music                         94.997539\n",
       "GoodForDancing                96.921767\n",
       "AcceptsInsurance              96.200098\n",
       "BestNights                    96.212736\n",
       "BYOB                          97.039496\n",
       "Corkage                       97.636784\n",
       "BYOBCorkage                   99.039549\n",
       "HairSpecializesIn             99.291634\n",
       "Open24Hours                   99.974060\n",
       "RestaurantsCounterService     99.987362\n",
       "AgesAllowed                   99.914198\n",
       "DietaryRestrictions           99.979381\n",
       "dtype: float64"
      ]
     },
     "execution_count": 15,
     "metadata": {},
     "output_type": "execute_result"
    }
   ],
   "source": [
    "(business_df_main.isnull().sum()*100)/business_df_main.shape[0]"
   ]
  },
  {
   "cell_type": "code",
   "execution_count": 16,
   "id": "57a3a308",
   "metadata": {},
   "outputs": [],
   "source": [
    "#Deleting columns having null values >= 50%\n",
    "threshold = 0.5 * len(business_df_main)\n",
    "\n",
    "# Drop columns with null values >= 50%\n",
    "business_df_cleaned = business_df_main.dropna(thresh=threshold, axis=1)"
   ]
  },
  {
   "cell_type": "code",
   "execution_count": 17,
   "id": "f94e0202",
   "metadata": {},
   "outputs": [
    {
     "data": {
      "text/plain": [
       "(150346, 17)"
      ]
     },
     "execution_count": 17,
     "metadata": {},
     "output_type": "execute_result"
    }
   ],
   "source": [
    "business_df_cleaned.shape #so we went from 53 columns to 17 columns"
   ]
  },
  {
   "cell_type": "code",
   "execution_count": 18,
   "id": "1efb1717",
   "metadata": {},
   "outputs": [
    {
     "name": "stdout",
     "output_type": "stream",
     "text": [
      "<class 'pandas.core.frame.DataFrame'>\n",
      "RangeIndex: 150346 entries, 0 to 150345\n",
      "Data columns (total 17 columns):\n",
      " #   Column                      Non-Null Count   Dtype  \n",
      "---  ------                      --------------   -----  \n",
      " 0   business_id                 150346 non-null  object \n",
      " 1   name                        150346 non-null  object \n",
      " 2   address                     150346 non-null  object \n",
      " 3   city                        150346 non-null  object \n",
      " 4   state                       150346 non-null  object \n",
      " 5   postal_code                 150346 non-null  object \n",
      " 6   latitude                    150346 non-null  float64\n",
      " 7   longitude                   150346 non-null  float64\n",
      " 8   stars                       150346 non-null  float64\n",
      " 9   review_count                150346 non-null  int64  \n",
      " 10  is_open                     150346 non-null  int64  \n",
      " 11  attributes                  136602 non-null  object \n",
      " 12  categories                  150243 non-null  object \n",
      " 13  hours                       127123 non-null  object \n",
      " 14  BusinessAcceptsCreditCards  119765 non-null  object \n",
      " 15  RestaurantsPriceRange2      85314 non-null   object \n",
      " 16  BusinessParking             91085 non-null   object \n",
      "dtypes: float64(3), int64(2), object(12)\n",
      "memory usage: 19.5+ MB\n"
     ]
    }
   ],
   "source": [
    "business_df_cleaned.info()"
   ]
  },
  {
   "cell_type": "code",
   "execution_count": 19,
   "id": "95715807",
   "metadata": {},
   "outputs": [
    {
     "data": {
      "text/plain": [
       "0         Doctors, Traditional Chinese Medicine, Naturop...\n",
       "1         Shipping Centers, Local Services, Notaries, Ma...\n",
       "2         Department Stores, Shopping, Fashion, Home & G...\n",
       "3         Restaurants, Food, Bubble Tea, Coffee & Tea, B...\n",
       "4                                 Brewpubs, Breweries, Food\n",
       "                                ...                        \n",
       "150341                           Nail Salons, Beauty & Spas\n",
       "150342    Pets, Nurseries & Gardening, Pet Stores, Hobby...\n",
       "150343    Shopping, Jewelry, Piercing, Toy Stores, Beaut...\n",
       "150344    Fitness/Exercise Equipment, Eyewear & Optician...\n",
       "150345    Beauty & Spas, Permanent Makeup, Piercing, Tattoo\n",
       "Name: categories, Length: 150346, dtype: object"
      ]
     },
     "execution_count": 19,
     "metadata": {},
     "output_type": "execute_result"
    }
   ],
   "source": [
    "business_df_cleaned['categories']"
   ]
  },
  {
   "cell_type": "code",
   "execution_count": 20,
   "id": "3cc6972d",
   "metadata": {},
   "outputs": [
    {
     "data": {
      "text/html": [
       "<div>\n",
       "<style scoped>\n",
       "    .dataframe tbody tr th:only-of-type {\n",
       "        vertical-align: middle;\n",
       "    }\n",
       "\n",
       "    .dataframe tbody tr th {\n",
       "        vertical-align: top;\n",
       "    }\n",
       "\n",
       "    .dataframe thead th {\n",
       "        text-align: right;\n",
       "    }\n",
       "</style>\n",
       "<table border=\"1\" class=\"dataframe\">\n",
       "  <thead>\n",
       "    <tr style=\"text-align: right;\">\n",
       "      <th></th>\n",
       "      <th>business_id</th>\n",
       "      <th>name</th>\n",
       "      <th>address</th>\n",
       "      <th>city</th>\n",
       "      <th>state</th>\n",
       "      <th>postal_code</th>\n",
       "      <th>latitude</th>\n",
       "      <th>longitude</th>\n",
       "      <th>stars</th>\n",
       "      <th>review_count</th>\n",
       "      <th>...</th>\n",
       "      <th>Restaurants</th>\n",
       "      <th>Food</th>\n",
       "      <th>Shopping</th>\n",
       "      <th>Home Services</th>\n",
       "      <th>Beauty &amp; Spas</th>\n",
       "      <th>Nightlife</th>\n",
       "      <th>Health &amp; Medical</th>\n",
       "      <th>Local Services</th>\n",
       "      <th>Bars</th>\n",
       "      <th>Automotive</th>\n",
       "    </tr>\n",
       "  </thead>\n",
       "  <tbody>\n",
       "    <tr>\n",
       "      <th>0</th>\n",
       "      <td>Pns2l4eNsfO8kk83dixA6A</td>\n",
       "      <td>Abby Rappoport, LAC, CMQ</td>\n",
       "      <td>1616 Chapala St, Ste 2</td>\n",
       "      <td>Santa Barbara</td>\n",
       "      <td>CA</td>\n",
       "      <td>93101</td>\n",
       "      <td>34.426679</td>\n",
       "      <td>-119.711197</td>\n",
       "      <td>5.0</td>\n",
       "      <td>7</td>\n",
       "      <td>...</td>\n",
       "      <td>0</td>\n",
       "      <td>0</td>\n",
       "      <td>0</td>\n",
       "      <td>0</td>\n",
       "      <td>0</td>\n",
       "      <td>0</td>\n",
       "      <td>1</td>\n",
       "      <td>0</td>\n",
       "      <td>0</td>\n",
       "      <td>0</td>\n",
       "    </tr>\n",
       "    <tr>\n",
       "      <th>1</th>\n",
       "      <td>mpf3x-BjTdTEA3yCZrAYPw</td>\n",
       "      <td>The UPS Store</td>\n",
       "      <td>87 Grasso Plaza Shopping Center</td>\n",
       "      <td>Affton</td>\n",
       "      <td>MO</td>\n",
       "      <td>63123</td>\n",
       "      <td>38.551126</td>\n",
       "      <td>-90.335695</td>\n",
       "      <td>3.0</td>\n",
       "      <td>15</td>\n",
       "      <td>...</td>\n",
       "      <td>0</td>\n",
       "      <td>0</td>\n",
       "      <td>0</td>\n",
       "      <td>0</td>\n",
       "      <td>0</td>\n",
       "      <td>0</td>\n",
       "      <td>0</td>\n",
       "      <td>1</td>\n",
       "      <td>0</td>\n",
       "      <td>0</td>\n",
       "    </tr>\n",
       "    <tr>\n",
       "      <th>2</th>\n",
       "      <td>tUFrWirKiKi_TAnsVWINQQ</td>\n",
       "      <td>Target</td>\n",
       "      <td>5255 E Broadway Blvd</td>\n",
       "      <td>Tucson</td>\n",
       "      <td>AZ</td>\n",
       "      <td>85711</td>\n",
       "      <td>32.223236</td>\n",
       "      <td>-110.880452</td>\n",
       "      <td>3.5</td>\n",
       "      <td>22</td>\n",
       "      <td>...</td>\n",
       "      <td>0</td>\n",
       "      <td>0</td>\n",
       "      <td>1</td>\n",
       "      <td>0</td>\n",
       "      <td>0</td>\n",
       "      <td>0</td>\n",
       "      <td>0</td>\n",
       "      <td>0</td>\n",
       "      <td>0</td>\n",
       "      <td>0</td>\n",
       "    </tr>\n",
       "    <tr>\n",
       "      <th>3</th>\n",
       "      <td>MTSW4McQd7CbVtyjqoe9mw</td>\n",
       "      <td>St Honore Pastries</td>\n",
       "      <td>935 Race St</td>\n",
       "      <td>Philadelphia</td>\n",
       "      <td>PA</td>\n",
       "      <td>19107</td>\n",
       "      <td>39.955505</td>\n",
       "      <td>-75.155564</td>\n",
       "      <td>4.0</td>\n",
       "      <td>80</td>\n",
       "      <td>...</td>\n",
       "      <td>1</td>\n",
       "      <td>1</td>\n",
       "      <td>0</td>\n",
       "      <td>0</td>\n",
       "      <td>0</td>\n",
       "      <td>0</td>\n",
       "      <td>0</td>\n",
       "      <td>0</td>\n",
       "      <td>0</td>\n",
       "      <td>0</td>\n",
       "    </tr>\n",
       "    <tr>\n",
       "      <th>4</th>\n",
       "      <td>mWMc6_wTdE0EUBKIGXDVfA</td>\n",
       "      <td>Perkiomen Valley Brewery</td>\n",
       "      <td>101 Walnut St</td>\n",
       "      <td>Green Lane</td>\n",
       "      <td>PA</td>\n",
       "      <td>18054</td>\n",
       "      <td>40.338183</td>\n",
       "      <td>-75.471659</td>\n",
       "      <td>4.5</td>\n",
       "      <td>13</td>\n",
       "      <td>...</td>\n",
       "      <td>0</td>\n",
       "      <td>1</td>\n",
       "      <td>0</td>\n",
       "      <td>0</td>\n",
       "      <td>0</td>\n",
       "      <td>0</td>\n",
       "      <td>0</td>\n",
       "      <td>0</td>\n",
       "      <td>0</td>\n",
       "      <td>0</td>\n",
       "    </tr>\n",
       "  </tbody>\n",
       "</table>\n",
       "<p>5 rows × 27 columns</p>\n",
       "</div>"
      ],
      "text/plain": [
       "              business_id                      name  \\\n",
       "0  Pns2l4eNsfO8kk83dixA6A  Abby Rappoport, LAC, CMQ   \n",
       "1  mpf3x-BjTdTEA3yCZrAYPw             The UPS Store   \n",
       "2  tUFrWirKiKi_TAnsVWINQQ                    Target   \n",
       "3  MTSW4McQd7CbVtyjqoe9mw        St Honore Pastries   \n",
       "4  mWMc6_wTdE0EUBKIGXDVfA  Perkiomen Valley Brewery   \n",
       "\n",
       "                           address           city state postal_code  \\\n",
       "0           1616 Chapala St, Ste 2  Santa Barbara    CA       93101   \n",
       "1  87 Grasso Plaza Shopping Center         Affton    MO       63123   \n",
       "2             5255 E Broadway Blvd         Tucson    AZ       85711   \n",
       "3                      935 Race St   Philadelphia    PA       19107   \n",
       "4                    101 Walnut St     Green Lane    PA       18054   \n",
       "\n",
       "    latitude   longitude  stars  review_count  ...  Restaurants Food Shopping  \\\n",
       "0  34.426679 -119.711197    5.0             7  ...            0    0        0   \n",
       "1  38.551126  -90.335695    3.0            15  ...            0    0        0   \n",
       "2  32.223236 -110.880452    3.5            22  ...            0    0        1   \n",
       "3  39.955505  -75.155564    4.0            80  ...            1    1        0   \n",
       "4  40.338183  -75.471659    4.5            13  ...            0    1        0   \n",
       "\n",
       "  Home Services Beauty & Spas Nightlife Health & Medical  Local Services  \\\n",
       "0             0             0         0                1               0   \n",
       "1             0             0         0                0               1   \n",
       "2             0             0         0                0               0   \n",
       "3             0             0         0                0               0   \n",
       "4             0             0         0                0               0   \n",
       "\n",
       "   Bars  Automotive  \n",
       "0     0           0  \n",
       "1     0           0  \n",
       "2     0           0  \n",
       "3     0           0  \n",
       "4     0           0  \n",
       "\n",
       "[5 rows x 27 columns]"
      ]
     },
     "execution_count": 20,
     "metadata": {},
     "output_type": "execute_result"
    }
   ],
   "source": [
    "#One Hot Encoding Top 10 categories\n",
    " \n",
    "#Splitting the categories into separate items\n",
    "business_df_cleaned['categories_split'] = business_df_cleaned['categories'].apply(lambda x: x.split(', ') if isinstance(x, str) else [])\n",
    "\n",
    "#Getting the top 10 most common categories\n",
    "all_categories = business_df_cleaned['categories_split'].explode()  # Flatten the list of categories\n",
    "top_10_categories = all_categories.value_counts().head(10).index.tolist()\n",
    "\n",
    "#One-hot encoding the top 10 categories\n",
    "for category in top_10_categories:\n",
    "    business_df_cleaned[category] = business_df_cleaned['categories_split'].apply(lambda x: 1 if category in x else 0)\n",
    "\n",
    "#Dropping the temporary 'categories_split' column\n",
    "business_df_cleaned = business_df_cleaned.drop(columns=['categories_split'])\n",
    "\n",
    "business_df_cleaned.head()"
   ]
  },
  {
   "cell_type": "code",
   "execution_count": 21,
   "id": "dc89c53b",
   "metadata": {},
   "outputs": [
    {
     "data": {
      "text/plain": [
       "(150346, 27)"
      ]
     },
     "execution_count": 21,
     "metadata": {},
     "output_type": "execute_result"
    }
   ],
   "source": [
    "business_df_cleaned.shape #17 columns to 27"
   ]
  },
  {
   "cell_type": "code",
   "execution_count": 22,
   "id": "ca6c77c0",
   "metadata": {},
   "outputs": [
    {
     "name": "stdout",
     "output_type": "stream",
     "text": [
      "<class 'pandas.core.frame.DataFrame'>\n",
      "RangeIndex: 150346 entries, 0 to 150345\n",
      "Data columns (total 27 columns):\n",
      " #   Column                      Non-Null Count   Dtype  \n",
      "---  ------                      --------------   -----  \n",
      " 0   business_id                 150346 non-null  object \n",
      " 1   name                        150346 non-null  object \n",
      " 2   address                     150346 non-null  object \n",
      " 3   city                        150346 non-null  object \n",
      " 4   state                       150346 non-null  object \n",
      " 5   postal_code                 150346 non-null  object \n",
      " 6   latitude                    150346 non-null  float64\n",
      " 7   longitude                   150346 non-null  float64\n",
      " 8   stars                       150346 non-null  float64\n",
      " 9   review_count                150346 non-null  int64  \n",
      " 10  is_open                     150346 non-null  int64  \n",
      " 11  attributes                  136602 non-null  object \n",
      " 12  categories                  150243 non-null  object \n",
      " 13  hours                       127123 non-null  object \n",
      " 14  BusinessAcceptsCreditCards  119765 non-null  object \n",
      " 15  RestaurantsPriceRange2      85314 non-null   object \n",
      " 16  BusinessParking             91085 non-null   object \n",
      " 17  Restaurants                 150346 non-null  int64  \n",
      " 18  Food                        150346 non-null  int64  \n",
      " 19  Shopping                    150346 non-null  int64  \n",
      " 20  Home Services               150346 non-null  int64  \n",
      " 21  Beauty & Spas               150346 non-null  int64  \n",
      " 22  Nightlife                   150346 non-null  int64  \n",
      " 23  Health & Medical            150346 non-null  int64  \n",
      " 24  Local Services              150346 non-null  int64  \n",
      " 25  Bars                        150346 non-null  int64  \n",
      " 26  Automotive                  150346 non-null  int64  \n",
      "dtypes: float64(3), int64(12), object(12)\n",
      "memory usage: 31.0+ MB\n"
     ]
    }
   ],
   "source": [
    "business_df_cleaned.info()"
   ]
  },
  {
   "cell_type": "code",
   "execution_count": 23,
   "id": "9ae3c08d",
   "metadata": {},
   "outputs": [
    {
     "name": "stdout",
     "output_type": "stream",
     "text": [
      "<class 'pandas.core.frame.DataFrame'>\n",
      "RangeIndex: 150346 entries, 0 to 150345\n",
      "Data columns (total 22 columns):\n",
      " #   Column                      Non-Null Count   Dtype  \n",
      "---  ------                      --------------   -----  \n",
      " 0   business_id                 150346 non-null  object \n",
      " 1   city                        150346 non-null  object \n",
      " 2   state                       150346 non-null  object \n",
      " 3   postal_code                 150346 non-null  object \n",
      " 4   latitude                    150346 non-null  float64\n",
      " 5   longitude                   150346 non-null  float64\n",
      " 6   stars                       150346 non-null  float64\n",
      " 7   review_count                150346 non-null  int64  \n",
      " 8   is_open                     150346 non-null  int64  \n",
      " 9   BusinessAcceptsCreditCards  119765 non-null  object \n",
      " 10  RestaurantsPriceRange2      85314 non-null   object \n",
      " 11  BusinessParking             91085 non-null   object \n",
      " 12  Restaurants                 150346 non-null  int64  \n",
      " 13  Food                        150346 non-null  int64  \n",
      " 14  Shopping                    150346 non-null  int64  \n",
      " 15  Home Services               150346 non-null  int64  \n",
      " 16  Beauty & Spas               150346 non-null  int64  \n",
      " 17  Nightlife                   150346 non-null  int64  \n",
      " 18  Health & Medical            150346 non-null  int64  \n",
      " 19  Local Services              150346 non-null  int64  \n",
      " 20  Bars                        150346 non-null  int64  \n",
      " 21  Automotive                  150346 non-null  int64  \n",
      "dtypes: float64(3), int64(12), object(7)\n",
      "memory usage: 25.2+ MB\n"
     ]
    }
   ],
   "source": [
    "#Dropping unnecessary columns\n",
    "business_df_cleaned = business_df_cleaned.drop(columns=['name', 'address', 'attributes', 'categories', 'hours'])\n",
    "business_df_cleaned.info()"
   ]
  },
  {
   "cell_type": "code",
   "execution_count": 24,
   "id": "82ef8ff8",
   "metadata": {},
   "outputs": [
    {
     "data": {
      "text/plain": [
       "(150346, 22)"
      ]
     },
     "execution_count": 24,
     "metadata": {},
     "output_type": "execute_result"
    }
   ],
   "source": [
    "business_df_cleaned.shape"
   ]
  },
  {
   "cell_type": "code",
   "execution_count": 25,
   "id": "f1cb3f21",
   "metadata": {},
   "outputs": [
    {
     "name": "stdout",
     "output_type": "stream",
     "text": [
      "Index(['business_id', 'city', 'state', 'postal_code', 'latitude', 'longitude',\n",
      "       'stars', 'review_count', 'is_open', 'BusinessAcceptsCreditCards',\n",
      "       'RestaurantsPriceRange2', 'BusinessParking', 'Restaurants', 'Food',\n",
      "       'Shopping', 'Home Services', 'Beauty & Spas', 'Nightlife',\n",
      "       'Health & Medical', 'Local Services', 'Bars', 'Automotive'],\n",
      "      dtype='object')\n"
     ]
    }
   ],
   "source": [
    "print(business_df_cleaned.columns)"
   ]
  },
  {
   "cell_type": "code",
   "execution_count": 26,
   "id": "02d2bce3",
   "metadata": {},
   "outputs": [
    {
     "name": "stdout",
     "output_type": "stream",
     "text": [
      "<class 'pandas.core.frame.DataFrame'>\n",
      "RangeIndex: 150346 entries, 0 to 150345\n",
      "Data columns (total 22 columns):\n",
      " #   Column                      Non-Null Count   Dtype  \n",
      "---  ------                      --------------   -----  \n",
      " 0   business_id                 150346 non-null  object \n",
      " 1   city                        150346 non-null  object \n",
      " 2   state                       150346 non-null  object \n",
      " 3   postal_code                 150346 non-null  object \n",
      " 4   latitude                    150346 non-null  float64\n",
      " 5   longitude                   150346 non-null  float64\n",
      " 6   stars                       150346 non-null  float64\n",
      " 7   review_count                150346 non-null  int64  \n",
      " 8   is_open                     150346 non-null  int64  \n",
      " 9   BusinessAcceptsCreditCards  119765 non-null  object \n",
      " 10  RestaurantsPriceRange2      85314 non-null   object \n",
      " 11  BusinessParking             91085 non-null   object \n",
      " 12  Restaurants                 150346 non-null  int64  \n",
      " 13  Food                        150346 non-null  int64  \n",
      " 14  Shopping                    150346 non-null  int64  \n",
      " 15  Home Services               150346 non-null  int64  \n",
      " 16  Beauty & Spas               150346 non-null  int64  \n",
      " 17  Nightlife                   150346 non-null  int64  \n",
      " 18  Health & Medical            150346 non-null  int64  \n",
      " 19  Local Services              150346 non-null  int64  \n",
      " 20  Bars                        150346 non-null  int64  \n",
      " 21  Automotive                  150346 non-null  int64  \n",
      "dtypes: float64(3), int64(12), object(7)\n",
      "memory usage: 25.2+ MB\n"
     ]
    }
   ],
   "source": [
    "business_df_cleaned.info()"
   ]
  },
  {
   "cell_type": "code",
   "execution_count": 27,
   "id": "3e55220d",
   "metadata": {},
   "outputs": [
    {
     "data": {
      "text/plain": [
       "(150346, 22)"
      ]
     },
     "execution_count": 27,
     "metadata": {},
     "output_type": "execute_result"
    }
   ],
   "source": [
    "business_df_cleaned.shape"
   ]
  },
  {
   "cell_type": "code",
   "execution_count": 28,
   "id": "98e5eb12",
   "metadata": {},
   "outputs": [],
   "source": [
    "duplicate_columns = business_df_cleaned.columns[business_df_cleaned.columns.duplicated()]\n",
    "\n",
    "if duplicate_columns.any():\n",
    "    print(\"Duplicate columns found:\", duplicate_columns)"
   ]
  },
  {
   "cell_type": "code",
   "execution_count": 29,
   "id": "8ab47e39",
   "metadata": {},
   "outputs": [],
   "source": [
    "business_df_cleaned = business_df_cleaned.dropna(subset=['BusinessParking'])"
   ]
  },
  {
   "cell_type": "code",
   "execution_count": 30,
   "id": "3dac8961",
   "metadata": {},
   "outputs": [
    {
     "data": {
      "text/plain": [
       "(91085, 22)"
      ]
     },
     "execution_count": 30,
     "metadata": {},
     "output_type": "execute_result"
    }
   ],
   "source": [
    "business_df_cleaned.shape"
   ]
  },
  {
   "cell_type": "code",
   "execution_count": 31,
   "id": "f92e28e4",
   "metadata": {},
   "outputs": [
    {
     "data": {
      "text/plain": [
       "business_id                       0\n",
       "city                              0\n",
       "state                             0\n",
       "postal_code                       0\n",
       "latitude                          0\n",
       "longitude                         0\n",
       "stars                             0\n",
       "review_count                      0\n",
       "is_open                           0\n",
       "BusinessAcceptsCreditCards     8298\n",
       "RestaurantsPriceRange2        13430\n",
       "BusinessParking                   0\n",
       "Restaurants                       0\n",
       "Food                              0\n",
       "Shopping                          0\n",
       "Home Services                     0\n",
       "Beauty & Spas                     0\n",
       "Nightlife                         0\n",
       "Health & Medical                  0\n",
       "Local Services                    0\n",
       "Bars                              0\n",
       "Automotive                        0\n",
       "dtype: int64"
      ]
     },
     "execution_count": 31,
     "metadata": {},
     "output_type": "execute_result"
    }
   ],
   "source": [
    "business_df_cleaned.isnull().sum()"
   ]
  },
  {
   "cell_type": "code",
   "execution_count": 32,
   "id": "60c58f1b",
   "metadata": {},
   "outputs": [
    {
     "data": {
      "text/plain": [
       "2271"
      ]
     },
     "execution_count": 32,
     "metadata": {},
     "output_type": "execute_result"
    }
   ],
   "source": [
    "(business_df_cleaned['BusinessParking'] == 'None').sum()"
   ]
  },
  {
   "cell_type": "code",
   "execution_count": 33,
   "id": "9983703a",
   "metadata": {},
   "outputs": [
    {
     "data": {
      "text/plain": [
       "2    {'garage': False, 'street': False, 'validated'...\n",
       "3    {'garage': False, 'street': True, 'validated':...\n",
       "4    {'garage': None, 'street': None, 'validated': ...\n",
       "5                                                 None\n",
       "6    {'garage': False, 'street': False, 'validated'...\n",
       "Name: BusinessParking, dtype: object"
      ]
     },
     "execution_count": 33,
     "metadata": {},
     "output_type": "execute_result"
    }
   ],
   "source": [
    "business_df_cleaned['BusinessParking'].head()"
   ]
  },
  {
   "cell_type": "code",
   "execution_count": 34,
   "id": "937942b7",
   "metadata": {},
   "outputs": [
    {
     "data": {
      "text/plain": [
       "\"{'garage': False, 'street': False, 'validated': False, 'lot': True, 'valet': False}\""
      ]
     },
     "execution_count": 34,
     "metadata": {},
     "output_type": "execute_result"
    }
   ],
   "source": [
    "business_df_cleaned['BusinessParking'].iloc[0]"
   ]
  },
  {
   "cell_type": "code",
   "execution_count": 35,
   "id": "c0fc33a7",
   "metadata": {},
   "outputs": [],
   "source": [
    "business_df_cleaned['BusinessParking'] = [ast.literal_eval(item) for item in business_df_cleaned['BusinessParking']]\n",
    "df_business_new1 = pd.json_normalize(business_df_cleaned['BusinessParking'])"
   ]
  },
  {
   "cell_type": "code",
   "execution_count": 36,
   "id": "2f1a2ae6",
   "metadata": {},
   "outputs": [
    {
     "data": {
      "text/plain": [
       "pandas.core.frame.DataFrame"
      ]
     },
     "execution_count": 36,
     "metadata": {},
     "output_type": "execute_result"
    }
   ],
   "source": [
    "type(df_business_new1)"
   ]
  },
  {
   "cell_type": "code",
   "execution_count": 37,
   "id": "5c73a9c2",
   "metadata": {},
   "outputs": [
    {
     "data": {
      "text/plain": [
       "(91085, 5)"
      ]
     },
     "execution_count": 37,
     "metadata": {},
     "output_type": "execute_result"
    }
   ],
   "source": [
    "df_business_new1.shape"
   ]
  },
  {
   "cell_type": "code",
   "execution_count": 38,
   "id": "89a58edd",
   "metadata": {},
   "outputs": [],
   "source": [
    "df_business_new1.reset_index(inplace=True,drop=True)"
   ]
  },
  {
   "cell_type": "code",
   "execution_count": 39,
   "id": "4c605823",
   "metadata": {},
   "outputs": [
    {
     "data": {
      "text/plain": [
       "(91085, 22)"
      ]
     },
     "execution_count": 39,
     "metadata": {},
     "output_type": "execute_result"
    }
   ],
   "source": [
    "business_df_cleaned.shape"
   ]
  },
  {
   "cell_type": "code",
   "execution_count": 40,
   "id": "55e293c0",
   "metadata": {},
   "outputs": [],
   "source": [
    "business_df_cleaned.reset_index(inplace=True,drop=True)"
   ]
  },
  {
   "cell_type": "code",
   "execution_count": 41,
   "id": "4f4817af",
   "metadata": {},
   "outputs": [],
   "source": [
    "business_df_cleaned1 = pd.DataFrame()"
   ]
  },
  {
   "cell_type": "code",
   "execution_count": 42,
   "id": "464d09e2",
   "metadata": {},
   "outputs": [],
   "source": [
    "business_df_cleaned1 = pd.concat([business_df_cleaned,df_business_new1],axis=1)\n",
    "business_df_cleaned1.drop('BusinessParking',axis=1,inplace = True)"
   ]
  },
  {
   "cell_type": "code",
   "execution_count": 43,
   "id": "666b9fb1",
   "metadata": {},
   "outputs": [
    {
     "data": {
      "text/html": [
       "<div>\n",
       "<style scoped>\n",
       "    .dataframe tbody tr th:only-of-type {\n",
       "        vertical-align: middle;\n",
       "    }\n",
       "\n",
       "    .dataframe tbody tr th {\n",
       "        vertical-align: top;\n",
       "    }\n",
       "\n",
       "    .dataframe thead th {\n",
       "        text-align: right;\n",
       "    }\n",
       "</style>\n",
       "<table border=\"1\" class=\"dataframe\">\n",
       "  <thead>\n",
       "    <tr style=\"text-align: right;\">\n",
       "      <th></th>\n",
       "      <th>business_id</th>\n",
       "      <th>city</th>\n",
       "      <th>state</th>\n",
       "      <th>postal_code</th>\n",
       "      <th>latitude</th>\n",
       "      <th>longitude</th>\n",
       "      <th>stars</th>\n",
       "      <th>review_count</th>\n",
       "      <th>is_open</th>\n",
       "      <th>BusinessAcceptsCreditCards</th>\n",
       "      <th>...</th>\n",
       "      <th>Nightlife</th>\n",
       "      <th>Health &amp; Medical</th>\n",
       "      <th>Local Services</th>\n",
       "      <th>Bars</th>\n",
       "      <th>Automotive</th>\n",
       "      <th>garage</th>\n",
       "      <th>street</th>\n",
       "      <th>validated</th>\n",
       "      <th>lot</th>\n",
       "      <th>valet</th>\n",
       "    </tr>\n",
       "  </thead>\n",
       "  <tbody>\n",
       "    <tr>\n",
       "      <th>0</th>\n",
       "      <td>tUFrWirKiKi_TAnsVWINQQ</td>\n",
       "      <td>Tucson</td>\n",
       "      <td>AZ</td>\n",
       "      <td>85711</td>\n",
       "      <td>32.223236</td>\n",
       "      <td>-110.880452</td>\n",
       "      <td>3.5</td>\n",
       "      <td>22</td>\n",
       "      <td>0</td>\n",
       "      <td>True</td>\n",
       "      <td>...</td>\n",
       "      <td>0</td>\n",
       "      <td>0</td>\n",
       "      <td>0</td>\n",
       "      <td>0</td>\n",
       "      <td>0</td>\n",
       "      <td>False</td>\n",
       "      <td>False</td>\n",
       "      <td>False</td>\n",
       "      <td>True</td>\n",
       "      <td>False</td>\n",
       "    </tr>\n",
       "    <tr>\n",
       "      <th>1</th>\n",
       "      <td>MTSW4McQd7CbVtyjqoe9mw</td>\n",
       "      <td>Philadelphia</td>\n",
       "      <td>PA</td>\n",
       "      <td>19107</td>\n",
       "      <td>39.955505</td>\n",
       "      <td>-75.155564</td>\n",
       "      <td>4.0</td>\n",
       "      <td>80</td>\n",
       "      <td>1</td>\n",
       "      <td>False</td>\n",
       "      <td>...</td>\n",
       "      <td>0</td>\n",
       "      <td>0</td>\n",
       "      <td>0</td>\n",
       "      <td>0</td>\n",
       "      <td>0</td>\n",
       "      <td>False</td>\n",
       "      <td>True</td>\n",
       "      <td>False</td>\n",
       "      <td>False</td>\n",
       "      <td>False</td>\n",
       "    </tr>\n",
       "    <tr>\n",
       "      <th>2</th>\n",
       "      <td>mWMc6_wTdE0EUBKIGXDVfA</td>\n",
       "      <td>Green Lane</td>\n",
       "      <td>PA</td>\n",
       "      <td>18054</td>\n",
       "      <td>40.338183</td>\n",
       "      <td>-75.471659</td>\n",
       "      <td>4.5</td>\n",
       "      <td>13</td>\n",
       "      <td>1</td>\n",
       "      <td>True</td>\n",
       "      <td>...</td>\n",
       "      <td>0</td>\n",
       "      <td>0</td>\n",
       "      <td>0</td>\n",
       "      <td>0</td>\n",
       "      <td>0</td>\n",
       "      <td>None</td>\n",
       "      <td>None</td>\n",
       "      <td>None</td>\n",
       "      <td>True</td>\n",
       "      <td>False</td>\n",
       "    </tr>\n",
       "    <tr>\n",
       "      <th>3</th>\n",
       "      <td>CF33F8-E6oudUQ46HnavjQ</td>\n",
       "      <td>Ashland City</td>\n",
       "      <td>TN</td>\n",
       "      <td>37015</td>\n",
       "      <td>36.269593</td>\n",
       "      <td>-87.058943</td>\n",
       "      <td>2.0</td>\n",
       "      <td>6</td>\n",
       "      <td>1</td>\n",
       "      <td>True</td>\n",
       "      <td>...</td>\n",
       "      <td>0</td>\n",
       "      <td>0</td>\n",
       "      <td>0</td>\n",
       "      <td>0</td>\n",
       "      <td>0</td>\n",
       "      <td>NaN</td>\n",
       "      <td>NaN</td>\n",
       "      <td>NaN</td>\n",
       "      <td>NaN</td>\n",
       "      <td>NaN</td>\n",
       "    </tr>\n",
       "    <tr>\n",
       "      <th>4</th>\n",
       "      <td>n_0UpQx1hsNbnPUSlodU8w</td>\n",
       "      <td>Brentwood</td>\n",
       "      <td>MO</td>\n",
       "      <td>63144</td>\n",
       "      <td>38.627695</td>\n",
       "      <td>-90.340465</td>\n",
       "      <td>2.5</td>\n",
       "      <td>13</td>\n",
       "      <td>1</td>\n",
       "      <td>True</td>\n",
       "      <td>...</td>\n",
       "      <td>0</td>\n",
       "      <td>0</td>\n",
       "      <td>0</td>\n",
       "      <td>0</td>\n",
       "      <td>0</td>\n",
       "      <td>False</td>\n",
       "      <td>False</td>\n",
       "      <td>False</td>\n",
       "      <td>True</td>\n",
       "      <td>False</td>\n",
       "    </tr>\n",
       "    <tr>\n",
       "      <th>...</th>\n",
       "      <td>...</td>\n",
       "      <td>...</td>\n",
       "      <td>...</td>\n",
       "      <td>...</td>\n",
       "      <td>...</td>\n",
       "      <td>...</td>\n",
       "      <td>...</td>\n",
       "      <td>...</td>\n",
       "      <td>...</td>\n",
       "      <td>...</td>\n",
       "      <td>...</td>\n",
       "      <td>...</td>\n",
       "      <td>...</td>\n",
       "      <td>...</td>\n",
       "      <td>...</td>\n",
       "      <td>...</td>\n",
       "      <td>...</td>\n",
       "      <td>...</td>\n",
       "      <td>...</td>\n",
       "      <td>...</td>\n",
       "      <td>...</td>\n",
       "    </tr>\n",
       "    <tr>\n",
       "      <th>91080</th>\n",
       "      <td>2O2K6SXPWv56amqxCECd4w</td>\n",
       "      <td>Aston</td>\n",
       "      <td>DE</td>\n",
       "      <td>19014</td>\n",
       "      <td>39.856185</td>\n",
       "      <td>-75.427725</td>\n",
       "      <td>4.5</td>\n",
       "      <td>14</td>\n",
       "      <td>1</td>\n",
       "      <td>True</td>\n",
       "      <td>...</td>\n",
       "      <td>0</td>\n",
       "      <td>0</td>\n",
       "      <td>0</td>\n",
       "      <td>0</td>\n",
       "      <td>0</td>\n",
       "      <td>False</td>\n",
       "      <td>True</td>\n",
       "      <td>False</td>\n",
       "      <td>False</td>\n",
       "      <td>False</td>\n",
       "    </tr>\n",
       "    <tr>\n",
       "      <th>91081</th>\n",
       "      <td>hn9Toz3s-Ei3uZPt7esExA</td>\n",
       "      <td>Edmonton</td>\n",
       "      <td>AB</td>\n",
       "      <td>T5T 1K8</td>\n",
       "      <td>53.509649</td>\n",
       "      <td>-113.675999</td>\n",
       "      <td>4.5</td>\n",
       "      <td>18</td>\n",
       "      <td>0</td>\n",
       "      <td>NaN</td>\n",
       "      <td>...</td>\n",
       "      <td>0</td>\n",
       "      <td>0</td>\n",
       "      <td>0</td>\n",
       "      <td>0</td>\n",
       "      <td>0</td>\n",
       "      <td>False</td>\n",
       "      <td>False</td>\n",
       "      <td>False</td>\n",
       "      <td>False</td>\n",
       "      <td>False</td>\n",
       "    </tr>\n",
       "    <tr>\n",
       "      <th>91082</th>\n",
       "      <td>c8GjPIOTGVmIemT7j5_SyQ</td>\n",
       "      <td>Nashville</td>\n",
       "      <td>TN</td>\n",
       "      <td>37204</td>\n",
       "      <td>36.115118</td>\n",
       "      <td>-86.766925</td>\n",
       "      <td>4.0</td>\n",
       "      <td>5</td>\n",
       "      <td>1</td>\n",
       "      <td>True</td>\n",
       "      <td>...</td>\n",
       "      <td>0</td>\n",
       "      <td>0</td>\n",
       "      <td>0</td>\n",
       "      <td>0</td>\n",
       "      <td>0</td>\n",
       "      <td>False</td>\n",
       "      <td>False</td>\n",
       "      <td>False</td>\n",
       "      <td>True</td>\n",
       "      <td>False</td>\n",
       "    </tr>\n",
       "    <tr>\n",
       "      <th>91083</th>\n",
       "      <td>mtGm22y5c2UHNXDFAjaPNw</td>\n",
       "      <td>Edwardsville</td>\n",
       "      <td>IL</td>\n",
       "      <td>62025</td>\n",
       "      <td>38.782351</td>\n",
       "      <td>-89.950558</td>\n",
       "      <td>4.0</td>\n",
       "      <td>24</td>\n",
       "      <td>1</td>\n",
       "      <td>True</td>\n",
       "      <td>...</td>\n",
       "      <td>0</td>\n",
       "      <td>0</td>\n",
       "      <td>0</td>\n",
       "      <td>0</td>\n",
       "      <td>0</td>\n",
       "      <td>False</td>\n",
       "      <td>False</td>\n",
       "      <td>False</td>\n",
       "      <td>True</td>\n",
       "      <td>False</td>\n",
       "    </tr>\n",
       "    <tr>\n",
       "      <th>91084</th>\n",
       "      <td>jV_XOycEzSlTx-65W906pg</td>\n",
       "      <td>Apollo beach</td>\n",
       "      <td>FL</td>\n",
       "      <td>33572</td>\n",
       "      <td>27.771002</td>\n",
       "      <td>-82.394910</td>\n",
       "      <td>4.5</td>\n",
       "      <td>9</td>\n",
       "      <td>1</td>\n",
       "      <td>True</td>\n",
       "      <td>...</td>\n",
       "      <td>0</td>\n",
       "      <td>0</td>\n",
       "      <td>0</td>\n",
       "      <td>0</td>\n",
       "      <td>0</td>\n",
       "      <td>False</td>\n",
       "      <td>False</td>\n",
       "      <td>False</td>\n",
       "      <td>True</td>\n",
       "      <td>False</td>\n",
       "    </tr>\n",
       "  </tbody>\n",
       "</table>\n",
       "<p>91085 rows × 26 columns</p>\n",
       "</div>"
      ],
      "text/plain": [
       "                  business_id          city state postal_code   latitude  \\\n",
       "0      tUFrWirKiKi_TAnsVWINQQ        Tucson    AZ       85711  32.223236   \n",
       "1      MTSW4McQd7CbVtyjqoe9mw  Philadelphia    PA       19107  39.955505   \n",
       "2      mWMc6_wTdE0EUBKIGXDVfA    Green Lane    PA       18054  40.338183   \n",
       "3      CF33F8-E6oudUQ46HnavjQ  Ashland City    TN       37015  36.269593   \n",
       "4      n_0UpQx1hsNbnPUSlodU8w     Brentwood    MO       63144  38.627695   \n",
       "...                       ...           ...   ...         ...        ...   \n",
       "91080  2O2K6SXPWv56amqxCECd4w         Aston    DE       19014  39.856185   \n",
       "91081  hn9Toz3s-Ei3uZPt7esExA      Edmonton    AB     T5T 1K8  53.509649   \n",
       "91082  c8GjPIOTGVmIemT7j5_SyQ     Nashville    TN       37204  36.115118   \n",
       "91083  mtGm22y5c2UHNXDFAjaPNw  Edwardsville    IL       62025  38.782351   \n",
       "91084  jV_XOycEzSlTx-65W906pg  Apollo beach    FL       33572  27.771002   \n",
       "\n",
       "        longitude  stars  review_count  is_open BusinessAcceptsCreditCards  \\\n",
       "0     -110.880452    3.5            22        0                       True   \n",
       "1      -75.155564    4.0            80        1                      False   \n",
       "2      -75.471659    4.5            13        1                       True   \n",
       "3      -87.058943    2.0             6        1                       True   \n",
       "4      -90.340465    2.5            13        1                       True   \n",
       "...           ...    ...           ...      ...                        ...   \n",
       "91080  -75.427725    4.5            14        1                       True   \n",
       "91081 -113.675999    4.5            18        0                        NaN   \n",
       "91082  -86.766925    4.0             5        1                       True   \n",
       "91083  -89.950558    4.0            24        1                       True   \n",
       "91084  -82.394910    4.5             9        1                       True   \n",
       "\n",
       "       ... Nightlife  Health & Medical  Local Services  Bars  Automotive  \\\n",
       "0      ...         0                 0               0     0           0   \n",
       "1      ...         0                 0               0     0           0   \n",
       "2      ...         0                 0               0     0           0   \n",
       "3      ...         0                 0               0     0           0   \n",
       "4      ...         0                 0               0     0           0   \n",
       "...    ...       ...               ...             ...   ...         ...   \n",
       "91080  ...         0                 0               0     0           0   \n",
       "91081  ...         0                 0               0     0           0   \n",
       "91082  ...         0                 0               0     0           0   \n",
       "91083  ...         0                 0               0     0           0   \n",
       "91084  ...         0                 0               0     0           0   \n",
       "\n",
       "       garage  street  validated    lot  valet  \n",
       "0       False   False      False   True  False  \n",
       "1       False    True      False  False  False  \n",
       "2        None    None       None   True  False  \n",
       "3         NaN     NaN        NaN    NaN    NaN  \n",
       "4       False   False      False   True  False  \n",
       "...       ...     ...        ...    ...    ...  \n",
       "91080   False    True      False  False  False  \n",
       "91081   False   False      False  False  False  \n",
       "91082   False   False      False   True  False  \n",
       "91083   False   False      False   True  False  \n",
       "91084   False   False      False   True  False  \n",
       "\n",
       "[91085 rows x 26 columns]"
      ]
     },
     "execution_count": 43,
     "metadata": {},
     "output_type": "execute_result"
    }
   ],
   "source": [
    "business_df_cleaned1"
   ]
  },
  {
   "cell_type": "code",
   "execution_count": 44,
   "id": "2cc70dc7",
   "metadata": {},
   "outputs": [
    {
     "data": {
      "text/plain": [
       "(91085, 26)"
      ]
     },
     "execution_count": 44,
     "metadata": {},
     "output_type": "execute_result"
    }
   ],
   "source": [
    "business_df_cleaned1.shape"
   ]
  },
  {
   "cell_type": "code",
   "execution_count": 45,
   "id": "3b9831e6",
   "metadata": {},
   "outputs": [
    {
     "name": "stdout",
     "output_type": "stream",
     "text": [
      "<class 'pandas.core.frame.DataFrame'>\n",
      "RangeIndex: 91085 entries, 0 to 91084\n",
      "Data columns (total 26 columns):\n",
      " #   Column                      Non-Null Count  Dtype  \n",
      "---  ------                      --------------  -----  \n",
      " 0   business_id                 91085 non-null  object \n",
      " 1   city                        91085 non-null  object \n",
      " 2   state                       91085 non-null  object \n",
      " 3   postal_code                 91085 non-null  object \n",
      " 4   latitude                    91085 non-null  float64\n",
      " 5   longitude                   91085 non-null  float64\n",
      " 6   stars                       91085 non-null  float64\n",
      " 7   review_count                91085 non-null  int64  \n",
      " 8   is_open                     91085 non-null  int64  \n",
      " 9   BusinessAcceptsCreditCards  82787 non-null  object \n",
      " 10  RestaurantsPriceRange2      77655 non-null  object \n",
      " 11  Restaurants                 91085 non-null  int64  \n",
      " 12  Food                        91085 non-null  int64  \n",
      " 13  Shopping                    91085 non-null  int64  \n",
      " 14  Home Services               91085 non-null  int64  \n",
      " 15  Beauty & Spas               91085 non-null  int64  \n",
      " 16  Nightlife                   91085 non-null  int64  \n",
      " 17  Health & Medical            91085 non-null  int64  \n",
      " 18  Local Services              91085 non-null  int64  \n",
      " 19  Bars                        91085 non-null  int64  \n",
      " 20  Automotive                  91085 non-null  int64  \n",
      " 21  garage                      86885 non-null  object \n",
      " 22  street                      85474 non-null  object \n",
      " 23  validated                   86654 non-null  object \n",
      " 24  lot                         86516 non-null  object \n",
      " 25  valet                       88795 non-null  object \n",
      "dtypes: float64(3), int64(12), object(11)\n",
      "memory usage: 18.1+ MB\n"
     ]
    }
   ],
   "source": [
    "business_df_cleaned1.info()"
   ]
  },
  {
   "cell_type": "code",
   "execution_count": 46,
   "id": "84bbeb09",
   "metadata": {},
   "outputs": [],
   "source": [
    "business_df_cleaned1 = business_df_cleaned1.dropna(subset=['validated'])"
   ]
  },
  {
   "cell_type": "code",
   "execution_count": 47,
   "id": "15d47881",
   "metadata": {},
   "outputs": [
    {
     "name": "stdout",
     "output_type": "stream",
     "text": [
      "<class 'pandas.core.frame.DataFrame'>\n",
      "Index: 86654 entries, 0 to 91084\n",
      "Data columns (total 26 columns):\n",
      " #   Column                      Non-Null Count  Dtype  \n",
      "---  ------                      --------------  -----  \n",
      " 0   business_id                 86654 non-null  object \n",
      " 1   city                        86654 non-null  object \n",
      " 2   state                       86654 non-null  object \n",
      " 3   postal_code                 86654 non-null  object \n",
      " 4   latitude                    86654 non-null  float64\n",
      " 5   longitude                   86654 non-null  float64\n",
      " 6   stars                       86654 non-null  float64\n",
      " 7   review_count                86654 non-null  int64  \n",
      " 8   is_open                     86654 non-null  int64  \n",
      " 9   BusinessAcceptsCreditCards  78867 non-null  object \n",
      " 10  RestaurantsPriceRange2      74047 non-null  object \n",
      " 11  Restaurants                 86654 non-null  int64  \n",
      " 12  Food                        86654 non-null  int64  \n",
      " 13  Shopping                    86654 non-null  int64  \n",
      " 14  Home Services               86654 non-null  int64  \n",
      " 15  Beauty & Spas               86654 non-null  int64  \n",
      " 16  Nightlife                   86654 non-null  int64  \n",
      " 17  Health & Medical            86654 non-null  int64  \n",
      " 18  Local Services              86654 non-null  int64  \n",
      " 19  Bars                        86654 non-null  int64  \n",
      " 20  Automotive                  86654 non-null  int64  \n",
      " 21  garage                      85759 non-null  object \n",
      " 22  street                      84677 non-null  object \n",
      " 23  validated                   86654 non-null  object \n",
      " 24  lot                         85174 non-null  object \n",
      " 25  valet                       86654 non-null  object \n",
      "dtypes: float64(3), int64(12), object(11)\n",
      "memory usage: 17.9+ MB\n"
     ]
    }
   ],
   "source": [
    "business_df_cleaned1.info()"
   ]
  },
  {
   "cell_type": "code",
   "execution_count": 48,
   "id": "af61f218",
   "metadata": {},
   "outputs": [],
   "source": [
    "business_df_cleaned1.reset_index(inplace=True,drop=True)"
   ]
  },
  {
   "cell_type": "code",
   "execution_count": 49,
   "id": "fa434106",
   "metadata": {},
   "outputs": [
    {
     "data": {
      "text/html": [
       "<div>\n",
       "<style scoped>\n",
       "    .dataframe tbody tr th:only-of-type {\n",
       "        vertical-align: middle;\n",
       "    }\n",
       "\n",
       "    .dataframe tbody tr th {\n",
       "        vertical-align: top;\n",
       "    }\n",
       "\n",
       "    .dataframe thead th {\n",
       "        text-align: right;\n",
       "    }\n",
       "</style>\n",
       "<table border=\"1\" class=\"dataframe\">\n",
       "  <thead>\n",
       "    <tr style=\"text-align: right;\">\n",
       "      <th></th>\n",
       "      <th>business_id</th>\n",
       "      <th>city</th>\n",
       "      <th>state</th>\n",
       "      <th>postal_code</th>\n",
       "      <th>latitude</th>\n",
       "      <th>longitude</th>\n",
       "      <th>stars</th>\n",
       "      <th>review_count</th>\n",
       "      <th>is_open</th>\n",
       "      <th>BusinessAcceptsCreditCards</th>\n",
       "      <th>...</th>\n",
       "      <th>Nightlife</th>\n",
       "      <th>Health &amp; Medical</th>\n",
       "      <th>Local Services</th>\n",
       "      <th>Bars</th>\n",
       "      <th>Automotive</th>\n",
       "      <th>garage</th>\n",
       "      <th>street</th>\n",
       "      <th>validated</th>\n",
       "      <th>lot</th>\n",
       "      <th>valet</th>\n",
       "    </tr>\n",
       "  </thead>\n",
       "  <tbody>\n",
       "    <tr>\n",
       "      <th>0</th>\n",
       "      <td>tUFrWirKiKi_TAnsVWINQQ</td>\n",
       "      <td>Tucson</td>\n",
       "      <td>AZ</td>\n",
       "      <td>85711</td>\n",
       "      <td>32.223236</td>\n",
       "      <td>-110.880452</td>\n",
       "      <td>3.5</td>\n",
       "      <td>22</td>\n",
       "      <td>0</td>\n",
       "      <td>True</td>\n",
       "      <td>...</td>\n",
       "      <td>0</td>\n",
       "      <td>0</td>\n",
       "      <td>0</td>\n",
       "      <td>0</td>\n",
       "      <td>0</td>\n",
       "      <td>False</td>\n",
       "      <td>False</td>\n",
       "      <td>False</td>\n",
       "      <td>True</td>\n",
       "      <td>False</td>\n",
       "    </tr>\n",
       "    <tr>\n",
       "      <th>1</th>\n",
       "      <td>MTSW4McQd7CbVtyjqoe9mw</td>\n",
       "      <td>Philadelphia</td>\n",
       "      <td>PA</td>\n",
       "      <td>19107</td>\n",
       "      <td>39.955505</td>\n",
       "      <td>-75.155564</td>\n",
       "      <td>4.0</td>\n",
       "      <td>80</td>\n",
       "      <td>1</td>\n",
       "      <td>False</td>\n",
       "      <td>...</td>\n",
       "      <td>0</td>\n",
       "      <td>0</td>\n",
       "      <td>0</td>\n",
       "      <td>0</td>\n",
       "      <td>0</td>\n",
       "      <td>False</td>\n",
       "      <td>True</td>\n",
       "      <td>False</td>\n",
       "      <td>False</td>\n",
       "      <td>False</td>\n",
       "    </tr>\n",
       "    <tr>\n",
       "      <th>2</th>\n",
       "      <td>n_0UpQx1hsNbnPUSlodU8w</td>\n",
       "      <td>Brentwood</td>\n",
       "      <td>MO</td>\n",
       "      <td>63144</td>\n",
       "      <td>38.627695</td>\n",
       "      <td>-90.340465</td>\n",
       "      <td>2.5</td>\n",
       "      <td>13</td>\n",
       "      <td>1</td>\n",
       "      <td>True</td>\n",
       "      <td>...</td>\n",
       "      <td>0</td>\n",
       "      <td>0</td>\n",
       "      <td>0</td>\n",
       "      <td>0</td>\n",
       "      <td>0</td>\n",
       "      <td>False</td>\n",
       "      <td>False</td>\n",
       "      <td>False</td>\n",
       "      <td>True</td>\n",
       "      <td>False</td>\n",
       "    </tr>\n",
       "    <tr>\n",
       "      <th>3</th>\n",
       "      <td>k0hlBqXX-Bt0vf1op7Jr1w</td>\n",
       "      <td>Affton</td>\n",
       "      <td>MO</td>\n",
       "      <td>63123</td>\n",
       "      <td>38.565165</td>\n",
       "      <td>-90.321087</td>\n",
       "      <td>3.0</td>\n",
       "      <td>19</td>\n",
       "      <td>0</td>\n",
       "      <td>True</td>\n",
       "      <td>...</td>\n",
       "      <td>1</td>\n",
       "      <td>0</td>\n",
       "      <td>0</td>\n",
       "      <td>1</td>\n",
       "      <td>0</td>\n",
       "      <td>False</td>\n",
       "      <td>False</td>\n",
       "      <td>False</td>\n",
       "      <td>True</td>\n",
       "      <td>False</td>\n",
       "    </tr>\n",
       "    <tr>\n",
       "      <th>4</th>\n",
       "      <td>bBDDEgkFA1Otx9Lfe7BZUQ</td>\n",
       "      <td>Nashville</td>\n",
       "      <td>TN</td>\n",
       "      <td>37207</td>\n",
       "      <td>36.208102</td>\n",
       "      <td>-86.768170</td>\n",
       "      <td>1.5</td>\n",
       "      <td>10</td>\n",
       "      <td>1</td>\n",
       "      <td>True</td>\n",
       "      <td>...</td>\n",
       "      <td>0</td>\n",
       "      <td>0</td>\n",
       "      <td>0</td>\n",
       "      <td>0</td>\n",
       "      <td>0</td>\n",
       "      <td>False</td>\n",
       "      <td>False</td>\n",
       "      <td>False</td>\n",
       "      <td>False</td>\n",
       "      <td>False</td>\n",
       "    </tr>\n",
       "  </tbody>\n",
       "</table>\n",
       "<p>5 rows × 26 columns</p>\n",
       "</div>"
      ],
      "text/plain": [
       "              business_id          city state postal_code   latitude  \\\n",
       "0  tUFrWirKiKi_TAnsVWINQQ        Tucson    AZ       85711  32.223236   \n",
       "1  MTSW4McQd7CbVtyjqoe9mw  Philadelphia    PA       19107  39.955505   \n",
       "2  n_0UpQx1hsNbnPUSlodU8w     Brentwood    MO       63144  38.627695   \n",
       "3  k0hlBqXX-Bt0vf1op7Jr1w        Affton    MO       63123  38.565165   \n",
       "4  bBDDEgkFA1Otx9Lfe7BZUQ     Nashville    TN       37207  36.208102   \n",
       "\n",
       "    longitude  stars  review_count  is_open BusinessAcceptsCreditCards  ...  \\\n",
       "0 -110.880452    3.5            22        0                       True  ...   \n",
       "1  -75.155564    4.0            80        1                      False  ...   \n",
       "2  -90.340465    2.5            13        1                       True  ...   \n",
       "3  -90.321087    3.0            19        0                       True  ...   \n",
       "4  -86.768170    1.5            10        1                       True  ...   \n",
       "\n",
       "  Nightlife  Health & Medical  Local Services  Bars  Automotive  garage  \\\n",
       "0         0                 0               0     0           0   False   \n",
       "1         0                 0               0     0           0   False   \n",
       "2         0                 0               0     0           0   False   \n",
       "3         1                 0               0     1           0   False   \n",
       "4         0                 0               0     0           0   False   \n",
       "\n",
       "   street  validated    lot  valet  \n",
       "0   False      False   True  False  \n",
       "1    True      False  False  False  \n",
       "2   False      False   True  False  \n",
       "3   False      False   True  False  \n",
       "4   False      False  False  False  \n",
       "\n",
       "[5 rows x 26 columns]"
      ]
     },
     "execution_count": 49,
     "metadata": {},
     "output_type": "execute_result"
    }
   ],
   "source": [
    "business_df_cleaned1.head()"
   ]
  },
  {
   "cell_type": "code",
   "execution_count": 50,
   "id": "79bd8640",
   "metadata": {},
   "outputs": [
    {
     "data": {
      "text/plain": [
       "validated\n",
       "False    85815\n",
       "True       839\n",
       "Name: count, dtype: int64"
      ]
     },
     "execution_count": 50,
     "metadata": {},
     "output_type": "execute_result"
    }
   ],
   "source": [
    "business_df_cleaned1['validated'].value_counts()\n"
   ]
  },
  {
   "cell_type": "code",
   "execution_count": 51,
   "id": "61151aa9",
   "metadata": {},
   "outputs": [
    {
     "name": "stdout",
     "output_type": "stream",
     "text": [
      "<class 'pandas.core.frame.DataFrame'>\n",
      "RangeIndex: 6990280 entries, 0 to 6990279\n",
      "Data columns (total 9 columns):\n",
      " #   Column       Dtype         \n",
      "---  ------       -----         \n",
      " 0   review_id    object        \n",
      " 1   user_id      object        \n",
      " 2   business_id  object        \n",
      " 3   stars        int64         \n",
      " 4   useful       int64         \n",
      " 5   funny        int64         \n",
      " 6   cool         int64         \n",
      " 7   text         object        \n",
      " 8   date         datetime64[ns]\n",
      "dtypes: datetime64[ns](1), int64(4), object(4)\n",
      "memory usage: 480.0+ MB\n"
     ]
    }
   ],
   "source": [
    "review_df_main.info()"
   ]
  },
  {
   "cell_type": "code",
   "execution_count": 52,
   "id": "c681984d",
   "metadata": {},
   "outputs": [],
   "source": [
    "merged_df = business_df_cleaned1.merge(review_df_main, on='business_id', how='inner')"
   ]
  },
  {
   "cell_type": "code",
   "execution_count": 53,
   "id": "a463a4c9",
   "metadata": {},
   "outputs": [
    {
     "data": {
      "text/plain": [
       "business_id                        0\n",
       "city                               0\n",
       "state                              0\n",
       "postal_code                        0\n",
       "latitude                           0\n",
       "longitude                          0\n",
       "stars_x                            0\n",
       "review_count                       0\n",
       "is_open                            0\n",
       "BusinessAcceptsCreditCards    175731\n",
       "RestaurantsPriceRange2        293897\n",
       "Restaurants                        0\n",
       "Food                               0\n",
       "Shopping                           0\n",
       "Home Services                      0\n",
       "Beauty & Spas                      0\n",
       "Nightlife                          0\n",
       "Health & Medical                   0\n",
       "Local Services                     0\n",
       "Bars                               0\n",
       "Automotive                         0\n",
       "garage                         88295\n",
       "street                        177845\n",
       "validated                          0\n",
       "lot                           127651\n",
       "valet                              0\n",
       "review_id                          0\n",
       "user_id                            0\n",
       "stars_y                            0\n",
       "useful                             0\n",
       "funny                              0\n",
       "cool                               0\n",
       "text                               0\n",
       "date                               0\n",
       "dtype: int64"
      ]
     },
     "execution_count": 53,
     "metadata": {},
     "output_type": "execute_result"
    }
   ],
   "source": [
    "merged_df.isnull().sum()    "
   ]
  },
  {
   "cell_type": "code",
   "execution_count": 54,
   "id": "2cb5c456",
   "metadata": {},
   "outputs": [
    {
     "data": {
      "text/plain": [
       "(5720498, 34)"
      ]
     },
     "execution_count": 54,
     "metadata": {},
     "output_type": "execute_result"
    }
   ],
   "source": [
    "merged_df.shape"
   ]
  },
  {
   "cell_type": "code",
   "execution_count": 55,
   "id": "ec21f567",
   "metadata": {},
   "outputs": [],
   "source": [
    "minority_class_size = merged_df['validated'].value_counts().min()\n",
    "\n",
    "# Apply downsampling to each class\n",
    "df_downsampled = merged_df.groupby('validated').apply(lambda x: x.sample(minority_class_size)).reset_index(drop=True)\n"
   ]
  },
  {
   "cell_type": "code",
   "execution_count": 60,
   "id": "6ff9875c",
   "metadata": {},
   "outputs": [
    {
     "data": {
      "text/plain": [
       "validated\n",
       "False    149514\n",
       "True     149514\n",
       "Name: count, dtype: int64"
      ]
     },
     "execution_count": 60,
     "metadata": {},
     "output_type": "execute_result"
    }
   ],
   "source": [
    "df_downsampled['validated'].value_counts()"
   ]
  },
  {
   "cell_type": "code",
   "execution_count": 59,
   "id": "5ac8cf0b",
   "metadata": {},
   "outputs": [
    {
     "data": {
      "text/plain": [
       "(299028, 34)"
      ]
     },
     "execution_count": 59,
     "metadata": {},
     "output_type": "execute_result"
    }
   ],
   "source": [
    "df_downsampled.shape"
   ]
  },
  {
   "cell_type": "code",
   "execution_count": 73,
   "id": "533e99ed",
   "metadata": {},
   "outputs": [],
   "source": [
    "merged_df = df_downsampled"
   ]
  },
  {
   "cell_type": "code",
   "execution_count": 74,
   "id": "744c0d15",
   "metadata": {},
   "outputs": [
    {
     "name": "stdout",
     "output_type": "stream",
     "text": [
      "<class 'pandas.core.frame.DataFrame'>\n",
      "RangeIndex: 299028 entries, 0 to 299027\n",
      "Data columns (total 34 columns):\n",
      " #   Column                      Non-Null Count   Dtype         \n",
      "---  ------                      --------------   -----         \n",
      " 0   business_id                 299028 non-null  object        \n",
      " 1   city                        299028 non-null  object        \n",
      " 2   state                       299028 non-null  object        \n",
      " 3   postal_code                 299028 non-null  object        \n",
      " 4   latitude                    299028 non-null  float64       \n",
      " 5   longitude                   299028 non-null  float64       \n",
      " 6   stars_x                     299028 non-null  float64       \n",
      " 7   review_count                299028 non-null  int64         \n",
      " 8   is_open                     299028 non-null  int64         \n",
      " 9   BusinessAcceptsCreditCards  292976 non-null  object        \n",
      " 10  RestaurantsPriceRange2      287191 non-null  object        \n",
      " 11  Restaurants                 299028 non-null  int64         \n",
      " 12  Food                        299028 non-null  int64         \n",
      " 13  Shopping                    299028 non-null  int64         \n",
      " 14  Home Services               299028 non-null  int64         \n",
      " 15  Beauty & Spas               299028 non-null  int64         \n",
      " 16  Nightlife                   299028 non-null  int64         \n",
      " 17  Health & Medical            299028 non-null  int64         \n",
      " 18  Local Services              299028 non-null  int64         \n",
      " 19  Bars                        299028 non-null  int64         \n",
      " 20  Automotive                  299028 non-null  int64         \n",
      " 21  garage                      296485 non-null  object        \n",
      " 22  street                      294275 non-null  object        \n",
      " 23  validated                   299028 non-null  object        \n",
      " 24  lot                         295457 non-null  object        \n",
      " 25  valet                       299028 non-null  object        \n",
      " 26  review_id                   299028 non-null  object        \n",
      " 27  user_id                     299028 non-null  object        \n",
      " 28  stars_y                     299028 non-null  int64         \n",
      " 29  useful                      299028 non-null  int64         \n",
      " 30  funny                       299028 non-null  int64         \n",
      " 31  cool                        299028 non-null  int64         \n",
      " 32  text                        299028 non-null  object        \n",
      " 33  date                        299028 non-null  datetime64[ns]\n",
      "dtypes: datetime64[ns](1), float64(3), int64(16), object(14)\n",
      "memory usage: 77.6+ MB\n"
     ]
    }
   ],
   "source": [
    "merged_df.info()"
   ]
  },
  {
   "cell_type": "code",
   "execution_count": 75,
   "id": "545ca0c1",
   "metadata": {},
   "outputs": [
    {
     "data": {
      "text/plain": [
       "business_id                       0\n",
       "city                              0\n",
       "state                             0\n",
       "postal_code                       0\n",
       "latitude                          0\n",
       "longitude                         0\n",
       "stars_x                           0\n",
       "review_count                      0\n",
       "is_open                           0\n",
       "BusinessAcceptsCreditCards     6052\n",
       "RestaurantsPriceRange2        11837\n",
       "Restaurants                       0\n",
       "Food                              0\n",
       "Shopping                          0\n",
       "Home Services                     0\n",
       "Beauty & Spas                     0\n",
       "Nightlife                         0\n",
       "Health & Medical                  0\n",
       "Local Services                    0\n",
       "Bars                              0\n",
       "Automotive                        0\n",
       "garage                         2543\n",
       "street                         4753\n",
       "validated                         0\n",
       "lot                            3571\n",
       "valet                             0\n",
       "review_id                         0\n",
       "user_id                           0\n",
       "stars_y                           0\n",
       "useful                            0\n",
       "funny                             0\n",
       "cool                              0\n",
       "text                              0\n",
       "date                              0\n",
       "dtype: int64"
      ]
     },
     "execution_count": 75,
     "metadata": {},
     "output_type": "execute_result"
    }
   ],
   "source": [
    "merged_df.isnull().sum()"
   ]
  },
  {
   "cell_type": "code",
   "execution_count": 76,
   "id": "db7f2d73",
   "metadata": {},
   "outputs": [
    {
     "data": {
      "text/plain": [
       "validated\n",
       "False    149514\n",
       "True     149514\n",
       "Name: count, dtype: int64"
      ]
     },
     "execution_count": 76,
     "metadata": {},
     "output_type": "execute_result"
    }
   ],
   "source": [
    "merged_df['validated'].value_counts()"
   ]
  },
  {
   "cell_type": "code",
   "execution_count": 77,
   "id": "86931366",
   "metadata": {},
   "outputs": [],
   "source": [
    "merged_df.reset_index(inplace=True,drop=True)"
   ]
  },
  {
   "cell_type": "code",
   "execution_count": 78,
   "id": "0420f5d8",
   "metadata": {},
   "outputs": [
    {
     "data": {
      "text/html": [
       "<div>\n",
       "<style scoped>\n",
       "    .dataframe tbody tr th:only-of-type {\n",
       "        vertical-align: middle;\n",
       "    }\n",
       "\n",
       "    .dataframe tbody tr th {\n",
       "        vertical-align: top;\n",
       "    }\n",
       "\n",
       "    .dataframe thead th {\n",
       "        text-align: right;\n",
       "    }\n",
       "</style>\n",
       "<table border=\"1\" class=\"dataframe\">\n",
       "  <thead>\n",
       "    <tr style=\"text-align: right;\">\n",
       "      <th></th>\n",
       "      <th>business_id</th>\n",
       "      <th>city</th>\n",
       "      <th>state</th>\n",
       "      <th>postal_code</th>\n",
       "      <th>latitude</th>\n",
       "      <th>longitude</th>\n",
       "      <th>stars_x</th>\n",
       "      <th>review_count</th>\n",
       "      <th>is_open</th>\n",
       "      <th>BusinessAcceptsCreditCards</th>\n",
       "      <th>...</th>\n",
       "      <th>lot</th>\n",
       "      <th>valet</th>\n",
       "      <th>review_id</th>\n",
       "      <th>user_id</th>\n",
       "      <th>stars_y</th>\n",
       "      <th>useful</th>\n",
       "      <th>funny</th>\n",
       "      <th>cool</th>\n",
       "      <th>text</th>\n",
       "      <th>date</th>\n",
       "    </tr>\n",
       "  </thead>\n",
       "  <tbody>\n",
       "    <tr>\n",
       "      <th>0</th>\n",
       "      <td>P29aQFfFiDrytWeZZT4SjQ</td>\n",
       "      <td>New Orleans</td>\n",
       "      <td>LA</td>\n",
       "      <td>70118</td>\n",
       "      <td>29.942355</td>\n",
       "      <td>-90.129596</td>\n",
       "      <td>4.5</td>\n",
       "      <td>27</td>\n",
       "      <td>1</td>\n",
       "      <td>True</td>\n",
       "      <td>...</td>\n",
       "      <td>True</td>\n",
       "      <td>False</td>\n",
       "      <td>h_dXCWpaHn7tzwT-agy0LA</td>\n",
       "      <td>1Awidw4gQhsk10eNm3n0MQ</td>\n",
       "      <td>5</td>\n",
       "      <td>2</td>\n",
       "      <td>0</td>\n",
       "      <td>0</td>\n",
       "      <td>I scoured the internet looking for wedding rin...</td>\n",
       "      <td>2014-10-03 22:04:19</td>\n",
       "    </tr>\n",
       "    <tr>\n",
       "      <th>1</th>\n",
       "      <td>PjN2N80xtElpy-Zbk2biLw</td>\n",
       "      <td>St Louis</td>\n",
       "      <td>MO</td>\n",
       "      <td>63102</td>\n",
       "      <td>38.629790</td>\n",
       "      <td>-90.184930</td>\n",
       "      <td>4.0</td>\n",
       "      <td>145</td>\n",
       "      <td>1</td>\n",
       "      <td>True</td>\n",
       "      <td>...</td>\n",
       "      <td>True</td>\n",
       "      <td>False</td>\n",
       "      <td>EXSgqD6UAzZZywN0fCp-gQ</td>\n",
       "      <td>PAwPXri9S4DtR0lTg_Ffow</td>\n",
       "      <td>3</td>\n",
       "      <td>0</td>\n",
       "      <td>0</td>\n",
       "      <td>0</td>\n",
       "      <td>I was craving Korean Fried chicken and asked m...</td>\n",
       "      <td>2020-10-25 16:08:31</td>\n",
       "    </tr>\n",
       "    <tr>\n",
       "      <th>2</th>\n",
       "      <td>UuuBYchJI23ddIoKl8fPfA</td>\n",
       "      <td>Reno</td>\n",
       "      <td>NV</td>\n",
       "      <td>89521</td>\n",
       "      <td>39.438014</td>\n",
       "      <td>-119.763343</td>\n",
       "      <td>2.0</td>\n",
       "      <td>321</td>\n",
       "      <td>1</td>\n",
       "      <td>True</td>\n",
       "      <td>...</td>\n",
       "      <td>True</td>\n",
       "      <td>False</td>\n",
       "      <td>3AV6MLJvJlcsVd6ZxzQnVQ</td>\n",
       "      <td>Jf9HH-aB3RlUuUGwao2o3w</td>\n",
       "      <td>1</td>\n",
       "      <td>2</td>\n",
       "      <td>1</td>\n",
       "      <td>1</td>\n",
       "      <td>Ok to start I know this place is new and thy a...</td>\n",
       "      <td>2017-07-30 05:30:37</td>\n",
       "    </tr>\n",
       "    <tr>\n",
       "      <th>3</th>\n",
       "      <td>6SclMbv8-46ZsJAPDoiLGg</td>\n",
       "      <td>Philadelphia</td>\n",
       "      <td>PA</td>\n",
       "      <td>19147</td>\n",
       "      <td>39.942964</td>\n",
       "      <td>-75.145577</td>\n",
       "      <td>5.0</td>\n",
       "      <td>53</td>\n",
       "      <td>1</td>\n",
       "      <td>True</td>\n",
       "      <td>...</td>\n",
       "      <td>False</td>\n",
       "      <td>False</td>\n",
       "      <td>MrirX2adePji87ghfqFyLg</td>\n",
       "      <td>RnQc13dr5Txbfm0o-QtGSg</td>\n",
       "      <td>5</td>\n",
       "      <td>4</td>\n",
       "      <td>0</td>\n",
       "      <td>3</td>\n",
       "      <td>Great staff and service! This was my first eve...</td>\n",
       "      <td>2018-04-21 18:44:55</td>\n",
       "    </tr>\n",
       "    <tr>\n",
       "      <th>4</th>\n",
       "      <td>jkGQQ4_LgJx3hwPtCFkzbQ</td>\n",
       "      <td>Philadelphia</td>\n",
       "      <td>PA</td>\n",
       "      <td>19102</td>\n",
       "      <td>39.949100</td>\n",
       "      <td>-75.166175</td>\n",
       "      <td>3.5</td>\n",
       "      <td>1358</td>\n",
       "      <td>1</td>\n",
       "      <td>True</td>\n",
       "      <td>...</td>\n",
       "      <td>True</td>\n",
       "      <td>False</td>\n",
       "      <td>hnEi65B-kAnKiZhYRhT64A</td>\n",
       "      <td>_7VEyrZ5gERe8sRRhqWGpw</td>\n",
       "      <td>5</td>\n",
       "      <td>1</td>\n",
       "      <td>0</td>\n",
       "      <td>0</td>\n",
       "      <td>Good, good and good. \\n\\nThis place is for peo...</td>\n",
       "      <td>2010-01-06 20:20:40</td>\n",
       "    </tr>\n",
       "  </tbody>\n",
       "</table>\n",
       "<p>5 rows × 34 columns</p>\n",
       "</div>"
      ],
      "text/plain": [
       "              business_id          city state postal_code   latitude  \\\n",
       "0  P29aQFfFiDrytWeZZT4SjQ   New Orleans    LA       70118  29.942355   \n",
       "1  PjN2N80xtElpy-Zbk2biLw      St Louis    MO       63102  38.629790   \n",
       "2  UuuBYchJI23ddIoKl8fPfA          Reno    NV       89521  39.438014   \n",
       "3  6SclMbv8-46ZsJAPDoiLGg  Philadelphia    PA       19147  39.942964   \n",
       "4  jkGQQ4_LgJx3hwPtCFkzbQ  Philadelphia    PA       19102  39.949100   \n",
       "\n",
       "    longitude  stars_x  review_count  is_open BusinessAcceptsCreditCards  ...  \\\n",
       "0  -90.129596      4.5            27        1                       True  ...   \n",
       "1  -90.184930      4.0           145        1                       True  ...   \n",
       "2 -119.763343      2.0           321        1                       True  ...   \n",
       "3  -75.145577      5.0            53        1                       True  ...   \n",
       "4  -75.166175      3.5          1358        1                       True  ...   \n",
       "\n",
       "     lot  valet               review_id                 user_id  stars_y  \\\n",
       "0   True  False  h_dXCWpaHn7tzwT-agy0LA  1Awidw4gQhsk10eNm3n0MQ        5   \n",
       "1   True  False  EXSgqD6UAzZZywN0fCp-gQ  PAwPXri9S4DtR0lTg_Ffow        3   \n",
       "2   True  False  3AV6MLJvJlcsVd6ZxzQnVQ  Jf9HH-aB3RlUuUGwao2o3w        1   \n",
       "3  False  False  MrirX2adePji87ghfqFyLg  RnQc13dr5Txbfm0o-QtGSg        5   \n",
       "4   True  False  hnEi65B-kAnKiZhYRhT64A  _7VEyrZ5gERe8sRRhqWGpw        5   \n",
       "\n",
       "   useful  funny  cool                                               text  \\\n",
       "0       2      0     0  I scoured the internet looking for wedding rin...   \n",
       "1       0      0     0  I was craving Korean Fried chicken and asked m...   \n",
       "2       2      1     1  Ok to start I know this place is new and thy a...   \n",
       "3       4      0     3  Great staff and service! This was my first eve...   \n",
       "4       1      0     0  Good, good and good. \\n\\nThis place is for peo...   \n",
       "\n",
       "                 date  \n",
       "0 2014-10-03 22:04:19  \n",
       "1 2020-10-25 16:08:31  \n",
       "2 2017-07-30 05:30:37  \n",
       "3 2018-04-21 18:44:55  \n",
       "4 2010-01-06 20:20:40  \n",
       "\n",
       "[5 rows x 34 columns]"
      ]
     },
     "execution_count": 78,
     "metadata": {},
     "output_type": "execute_result"
    }
   ],
   "source": [
    "merged_df.head()"
   ]
  },
  {
   "cell_type": "code",
   "execution_count": 79,
   "id": "79a3a88c",
   "metadata": {},
   "outputs": [],
   "source": [
    "for column in ['useful', 'funny', 'cool']:\n",
    "    threshold = merged_df[column].quantile(0.99)\n",
    "    merged_df = merged_df[merged_df[column] <= threshold]\n",
    "\n"
   ]
  },
  {
   "cell_type": "code",
   "execution_count": 80,
   "id": "9f359a8a",
   "metadata": {},
   "outputs": [],
   "source": [
    "X = merged_df.drop('validated', axis=1)\n",
    "y = merged_df['validated']"
   ]
  },
  {
   "cell_type": "code",
   "execution_count": 81,
   "id": "e83a45fa",
   "metadata": {},
   "outputs": [],
   "source": [
    "X.drop(['business_id','latitude','longitude','postal_code','city','review_id','user_id','text','date'], axis=1, inplace=True)\n",
    "X['business_stars'] = X['stars_x']\n",
    "X['review_stars'] = X['stars_y']\n",
    "X.drop(['stars_x','stars_y'], axis=1, inplace=True)"
   ]
  },
  {
   "cell_type": "code",
   "execution_count": 82,
   "id": "7a4878d9",
   "metadata": {},
   "outputs": [
    {
     "name": "stdout",
     "output_type": "stream",
     "text": [
      "X.shape (291618, 24)\n",
      "y.shape (291618,)\n"
     ]
    }
   ],
   "source": [
    "print(\"X.shape\",X.shape)\n",
    "print(\"y.shape\",y.shape)"
   ]
  },
  {
   "cell_type": "code",
   "execution_count": 109,
   "id": "1b31b35b",
   "metadata": {},
   "outputs": [],
   "source": [
    "X_train, X_test, y_train, y_test = train_test_split(X, y, test_size=0.2, random_state=42, stratify=y)"
   ]
  },
  {
   "cell_type": "code",
   "execution_count": 110,
   "id": "c4396495",
   "metadata": {},
   "outputs": [
    {
     "name": "stdout",
     "output_type": "stream",
     "text": [
      "(233294, 24)\n",
      "(233294,)\n",
      "(58324, 24)\n",
      "(58324,)\n"
     ]
    }
   ],
   "source": [
    "print(X_train.shape)\n",
    "print(y_train.shape)\n",
    "print(X_test.shape)\n",
    "print(y_test.shape)\n"
   ]
  },
  {
   "cell_type": "code",
   "execution_count": 111,
   "id": "00bcf3ac",
   "metadata": {},
   "outputs": [
    {
     "data": {
      "text/plain": [
       "validated\n",
       "True     116709\n",
       "False    116585\n",
       "Name: count, dtype: int64"
      ]
     },
     "execution_count": 111,
     "metadata": {},
     "output_type": "execute_result"
    }
   ],
   "source": [
    "y_train.value_counts()"
   ]
  },
  {
   "cell_type": "code",
   "execution_count": 112,
   "id": "7ec0a65f",
   "metadata": {},
   "outputs": [],
   "source": [
    "y_train = y_train.astype(int)\n",
    "y_test = y_test.astype(int)"
   ]
  },
  {
   "cell_type": "code",
   "execution_count": 65,
   "id": "0db79903",
   "metadata": {},
   "outputs": [],
   "source": [
    "# train_data = pd.concat([X_train, y_train], axis=1)\n",
    "\n",
    "# false_class = train_data[train_data['validated'] == False]\n",
    "# true_class = train_data[train_data['validated'] == True]\n",
    "\n",
    "\n",
    "# min_size = min(len(false_class), len(true_class))\n",
    "\n",
    "# false_sample = false_class.sample(n=40000, random_state=42)\n",
    "# true_sample = true_class.sample(n=40000, random_state=42)\n",
    "\n",
    "\n",
    "# balanced_train_data = pd.concat([false_sample, true_sample])\n",
    "\n",
    "\n",
    "# balanced_train_data = balanced_train_data.sample(frac=1, random_state=42).reset_index(drop=True)\n",
    "\n",
    "\n",
    "# X_train = balanced_train_data.drop(columns=['validated'])\n",
    "# y_train = balanced_train_data['validated']\n"
   ]
  },
  {
   "cell_type": "code",
   "execution_count": 96,
   "id": "b0854126",
   "metadata": {},
   "outputs": [
    {
     "data": {
      "text/plain": [
       "(116709, 25)"
      ]
     },
     "execution_count": 96,
     "metadata": {},
     "output_type": "execute_result"
    }
   ],
   "source": []
  },
  {
   "cell_type": "code",
   "execution_count": null,
   "id": "2fc21d16",
   "metadata": {},
   "outputs": [],
   "source": []
  },
  {
   "cell_type": "code",
   "execution_count": 113,
   "id": "30652d35",
   "metadata": {},
   "outputs": [],
   "source": [
    "df = pd.concat([X_train, y_train.rename('validated')], axis=1)\n",
    "\n",
    "# Separate the majority and minority classes\n",
    "df_majority = df[df['validated'] == 1]\n",
    "df_minority = df[df['validated'] == 0]\n"
   ]
  },
  {
   "cell_type": "code",
   "execution_count": 114,
   "id": "17bc3b27",
   "metadata": {},
   "outputs": [
    {
     "name": "stdout",
     "output_type": "stream",
     "text": [
      "(116709, 25) (116585, 25)\n"
     ]
    }
   ],
   "source": [
    "print(df_majority.shape, df_minority.shape)"
   ]
  },
  {
   "cell_type": "code",
   "execution_count": 115,
   "id": "cd80183b",
   "metadata": {},
   "outputs": [],
   "source": [
    "# Downsample the majority class\n",
    "df_majority_downsampled = df_majority.sample(len(df_minority), random_state=42)\n",
    "\n",
    "# Combine downsampled majority class with the minority class\n",
    "df_downsampled = pd.concat([df_majority_downsampled, df_minority])\n",
    "\n",
    "# Shuffle the resulting dataset\n",
    "df_downsampled = df_downsampled.sample(frac=1, random_state=42).reset_index(drop=True)\n",
    "\n",
    "# Separate X_train and y_train after downsampling\n",
    "X_train = df_downsampled.drop('validated', axis=1)\n",
    "y_train = df_downsampled['validated']"
   ]
  },
  {
   "cell_type": "code",
   "execution_count": 116,
   "id": "bd9b0639",
   "metadata": {},
   "outputs": [
    {
     "data": {
      "text/plain": [
       "validated\n",
       "1    116585\n",
       "0    116585\n",
       "Name: count, dtype: int64"
      ]
     },
     "execution_count": 116,
     "metadata": {},
     "output_type": "execute_result"
    }
   ],
   "source": [
    "y_train.value_counts()"
   ]
  },
  {
   "cell_type": "code",
   "execution_count": 117,
   "id": "088588a9",
   "metadata": {},
   "outputs": [
    {
     "data": {
      "text/plain": [
       "validated\n",
       "1    29177\n",
       "0    29147\n",
       "Name: count, dtype: int64"
      ]
     },
     "execution_count": 117,
     "metadata": {},
     "output_type": "execute_result"
    }
   ],
   "source": [
    "y_test.value_counts()"
   ]
  },
  {
   "cell_type": "code",
   "execution_count": 118,
   "id": "6fb332bd",
   "metadata": {},
   "outputs": [
    {
     "name": "stdout",
     "output_type": "stream",
     "text": [
      "(233170, 24)\n",
      "(233170,)\n",
      "(58324, 24)\n",
      "(58324,)\n"
     ]
    }
   ],
   "source": [
    "print(X_train.shape)\n",
    "print(y_train.shape)\n",
    "print(X_test.shape)\n",
    "print(y_test.shape)\n"
   ]
  },
  {
   "cell_type": "code",
   "execution_count": 119,
   "id": "aa2fcd9d",
   "metadata": {},
   "outputs": [
    {
     "name": "stdout",
     "output_type": "stream",
     "text": [
      "<class 'pandas.core.frame.DataFrame'>\n",
      "RangeIndex: 233170 entries, 0 to 233169\n",
      "Data columns (total 24 columns):\n",
      " #   Column                      Non-Null Count   Dtype  \n",
      "---  ------                      --------------   -----  \n",
      " 0   state                       233170 non-null  object \n",
      " 1   review_count                233170 non-null  int64  \n",
      " 2   is_open                     233170 non-null  int64  \n",
      " 3   BusinessAcceptsCreditCards  228496 non-null  object \n",
      " 4   RestaurantsPriceRange2      224080 non-null  object \n",
      " 5   Restaurants                 233170 non-null  int64  \n",
      " 6   Food                        233170 non-null  int64  \n",
      " 7   Shopping                    233170 non-null  int64  \n",
      " 8   Home Services               233170 non-null  int64  \n",
      " 9   Beauty & Spas               233170 non-null  int64  \n",
      " 10  Nightlife                   233170 non-null  int64  \n",
      " 11  Health & Medical            233170 non-null  int64  \n",
      " 12  Local Services              233170 non-null  int64  \n",
      " 13  Bars                        233170 non-null  int64  \n",
      " 14  Automotive                  233170 non-null  int64  \n",
      " 15  garage                      231188 non-null  object \n",
      " 16  street                      229439 non-null  object \n",
      " 17  lot                         230378 non-null  object \n",
      " 18  valet                       233170 non-null  object \n",
      " 19  useful                      233170 non-null  int64  \n",
      " 20  funny                       233170 non-null  int64  \n",
      " 21  cool                        233170 non-null  int64  \n",
      " 22  business_stars              233170 non-null  float64\n",
      " 23  review_stars                233170 non-null  int64  \n",
      "dtypes: float64(1), int64(16), object(7)\n",
      "memory usage: 42.7+ MB\n"
     ]
    }
   ],
   "source": [
    "X_train.info()"
   ]
  },
  {
   "cell_type": "markdown",
   "id": "df169488",
   "metadata": {},
   "source": [
    "### Cleaning Business Accepts Credit Cards "
   ]
  },
  {
   "cell_type": "markdown",
   "id": "ed4cdbc1",
   "metadata": {},
   "source": [
    "#### X_train"
   ]
  },
  {
   "cell_type": "code",
   "execution_count": 121,
   "id": "7b1384b7",
   "metadata": {},
   "outputs": [
    {
     "data": {
      "text/plain": [
       "BusinessAcceptsCreditCards\n",
       "True     224352\n",
       "False      4139\n",
       "None          5\n",
       "Name: count, dtype: int64"
      ]
     },
     "execution_count": 121,
     "metadata": {},
     "output_type": "execute_result"
    }
   ],
   "source": [
    "X_train['BusinessAcceptsCreditCards'].value_counts()"
   ]
  },
  {
   "cell_type": "code",
   "execution_count": 122,
   "id": "04d758e2",
   "metadata": {},
   "outputs": [],
   "source": [
    "X_train['BusinessAcceptsCreditCards'] = X_train['BusinessAcceptsCreditCards'].replace({\n",
    "    'True': 1, 'False': 0, 'None': np.nan\n",
    "})"
   ]
  },
  {
   "cell_type": "code",
   "execution_count": 123,
   "id": "84913ae2",
   "metadata": {},
   "outputs": [
    {
     "data": {
      "text/plain": [
       "4679"
      ]
     },
     "execution_count": 123,
     "metadata": {},
     "output_type": "execute_result"
    }
   ],
   "source": [
    "X_train['BusinessAcceptsCreditCards'].isnull().sum()"
   ]
  },
  {
   "cell_type": "code",
   "execution_count": 124,
   "id": "b9e608ba",
   "metadata": {},
   "outputs": [
    {
     "data": {
      "text/plain": [
       "0"
      ]
     },
     "execution_count": 124,
     "metadata": {},
     "output_type": "execute_result"
    }
   ],
   "source": [
    "mode_value = X_train['BusinessAcceptsCreditCards'].mode()[0]\n",
    "X_train['BusinessAcceptsCreditCards'].fillna(mode_value, inplace=True)\n",
    "X_train['BusinessAcceptsCreditCards'].isnull().sum()"
   ]
  },
  {
   "cell_type": "markdown",
   "id": "23652b17",
   "metadata": {},
   "source": [
    "#### X_test"
   ]
  },
  {
   "cell_type": "code",
   "execution_count": 125,
   "id": "fe17d9cb",
   "metadata": {},
   "outputs": [
    {
     "data": {
      "text/plain": [
       "BusinessAcceptsCreditCards\n",
       "True     56133\n",
       "False     1042\n",
       "None         1\n",
       "Name: count, dtype: int64"
      ]
     },
     "execution_count": 125,
     "metadata": {},
     "output_type": "execute_result"
    }
   ],
   "source": [
    "X_test['BusinessAcceptsCreditCards'].value_counts()"
   ]
  },
  {
   "cell_type": "code",
   "execution_count": 80,
   "id": "25430dd4",
   "metadata": {},
   "outputs": [],
   "source": [
    "X_test['BusinessAcceptsCreditCards'] = X_test['BusinessAcceptsCreditCards'].replace({\n",
    "    'True': 1, 'False': 0, 'None': np.nan\n",
    "})"
   ]
  },
  {
   "cell_type": "code",
   "execution_count": 126,
   "id": "8497a819",
   "metadata": {},
   "outputs": [
    {
     "data": {
      "text/plain": [
       "0"
      ]
     },
     "execution_count": 126,
     "metadata": {},
     "output_type": "execute_result"
    }
   ],
   "source": [
    "mode_value_test = X_test['BusinessAcceptsCreditCards'].mode()[0]\n",
    "X_test['BusinessAcceptsCreditCards'].fillna(mode_value, inplace=True)\n",
    "X_test['BusinessAcceptsCreditCards'].isnull().sum()"
   ]
  },
  {
   "cell_type": "markdown",
   "id": "cbb4ce77",
   "metadata": {},
   "source": [
    "### Cleaning Restaurant Price Range"
   ]
  },
  {
   "cell_type": "markdown",
   "id": "6a18a0bb",
   "metadata": {},
   "source": [
    "#### X_train"
   ]
  },
  {
   "cell_type": "code",
   "execution_count": 127,
   "id": "81acae5a",
   "metadata": {},
   "outputs": [
    {
     "data": {
      "text/plain": [
       "RestaurantsPriceRange2\n",
       "2       163071\n",
       "1        29872\n",
       "3        29120\n",
       "4         1975\n",
       "None        42\n",
       "Name: count, dtype: int64"
      ]
     },
     "execution_count": 127,
     "metadata": {},
     "output_type": "execute_result"
    }
   ],
   "source": [
    "X_train['RestaurantsPriceRange2'].value_counts()"
   ]
  },
  {
   "cell_type": "code",
   "execution_count": 128,
   "id": "eaac6cf5",
   "metadata": {},
   "outputs": [
    {
     "data": {
      "text/plain": [
       "9090"
      ]
     },
     "execution_count": 128,
     "metadata": {},
     "output_type": "execute_result"
    }
   ],
   "source": [
    "X_train['RestaurantsPriceRange2'].isnull().sum()"
   ]
  },
  {
   "cell_type": "code",
   "execution_count": 129,
   "id": "12833160",
   "metadata": {},
   "outputs": [
    {
     "data": {
      "text/plain": [
       "0"
      ]
     },
     "execution_count": 129,
     "metadata": {},
     "output_type": "execute_result"
    }
   ],
   "source": [
    "X_train['RestaurantsPriceRange2'] = X_train['RestaurantsPriceRange2'].replace({\n",
    "    'None': np.nan\n",
    "})\n",
    "\n",
    "mode_value_train = X_train['RestaurantsPriceRange2'].mode()[0]\n",
    "X_train['RestaurantsPriceRange2'].fillna(mode_value_train, inplace=True)\n",
    "X_train['RestaurantsPriceRange2'].isnull().sum()"
   ]
  },
  {
   "cell_type": "markdown",
   "id": "0c97df35",
   "metadata": {},
   "source": [
    "#### X_test"
   ]
  },
  {
   "cell_type": "code",
   "execution_count": 130,
   "id": "a05c4ad5",
   "metadata": {},
   "outputs": [
    {
     "data": {
      "text/plain": [
       "RestaurantsPriceRange2\n",
       "2       40629\n",
       "1        7500\n",
       "3        7411\n",
       "4         513\n",
       "None        8\n",
       "Name: count, dtype: int64"
      ]
     },
     "execution_count": 130,
     "metadata": {},
     "output_type": "execute_result"
    }
   ],
   "source": [
    "X_test['RestaurantsPriceRange2'].value_counts()"
   ]
  },
  {
   "cell_type": "code",
   "execution_count": 131,
   "id": "25e7d364",
   "metadata": {},
   "outputs": [],
   "source": [
    "X_test['RestaurantsPriceRange2'] = X_test['RestaurantsPriceRange2'].replace({\n",
    "    'None': np.nan\n",
    "})"
   ]
  },
  {
   "cell_type": "code",
   "execution_count": 132,
   "id": "030eb75d",
   "metadata": {},
   "outputs": [
    {
     "data": {
      "text/plain": [
       "0"
      ]
     },
     "execution_count": 132,
     "metadata": {},
     "output_type": "execute_result"
    }
   ],
   "source": [
    "mode_value_test = X_test['RestaurantsPriceRange2'].mode()[0]\n",
    "X_test['RestaurantsPriceRange2'].fillna(mode_value_test, inplace=True)\n",
    "X_test['RestaurantsPriceRange2'].isnull().sum()"
   ]
  },
  {
   "cell_type": "code",
   "execution_count": 133,
   "id": "5b2d111a",
   "metadata": {},
   "outputs": [
    {
     "name": "stdout",
     "output_type": "stream",
     "text": [
      "<class 'pandas.core.frame.DataFrame'>\n",
      "RangeIndex: 233170 entries, 0 to 233169\n",
      "Data columns (total 24 columns):\n",
      " #   Column                      Non-Null Count   Dtype  \n",
      "---  ------                      --------------   -----  \n",
      " 0   state                       233170 non-null  object \n",
      " 1   review_count                233170 non-null  int64  \n",
      " 2   is_open                     233170 non-null  int64  \n",
      " 3   BusinessAcceptsCreditCards  233170 non-null  float64\n",
      " 4   RestaurantsPriceRange2      233170 non-null  object \n",
      " 5   Restaurants                 233170 non-null  int64  \n",
      " 6   Food                        233170 non-null  int64  \n",
      " 7   Shopping                    233170 non-null  int64  \n",
      " 8   Home Services               233170 non-null  int64  \n",
      " 9   Beauty & Spas               233170 non-null  int64  \n",
      " 10  Nightlife                   233170 non-null  int64  \n",
      " 11  Health & Medical            233170 non-null  int64  \n",
      " 12  Local Services              233170 non-null  int64  \n",
      " 13  Bars                        233170 non-null  int64  \n",
      " 14  Automotive                  233170 non-null  int64  \n",
      " 15  garage                      231188 non-null  object \n",
      " 16  street                      229439 non-null  object \n",
      " 17  lot                         230378 non-null  object \n",
      " 18  valet                       233170 non-null  object \n",
      " 19  useful                      233170 non-null  int64  \n",
      " 20  funny                       233170 non-null  int64  \n",
      " 21  cool                        233170 non-null  int64  \n",
      " 22  business_stars              233170 non-null  float64\n",
      " 23  review_stars                233170 non-null  int64  \n",
      "dtypes: float64(2), int64(16), object(6)\n",
      "memory usage: 42.7+ MB\n"
     ]
    }
   ],
   "source": [
    "X_train.info()"
   ]
  },
  {
   "cell_type": "markdown",
   "id": "2351612e",
   "metadata": {},
   "source": [
    "### Cleaning garage"
   ]
  },
  {
   "cell_type": "markdown",
   "id": "8c224717",
   "metadata": {},
   "source": [
    "#### X_train"
   ]
  },
  {
   "cell_type": "code",
   "execution_count": 134,
   "id": "225960b8",
   "metadata": {},
   "outputs": [
    {
     "data": {
      "text/plain": [
       "garage\n",
       "False    160652\n",
       "True      70536\n",
       "Name: count, dtype: int64"
      ]
     },
     "execution_count": 134,
     "metadata": {},
     "output_type": "execute_result"
    }
   ],
   "source": [
    "X_train['garage'].value_counts()"
   ]
  },
  {
   "cell_type": "code",
   "execution_count": 135,
   "id": "224f7453",
   "metadata": {},
   "outputs": [
    {
     "data": {
      "text/plain": [
       "1982"
      ]
     },
     "execution_count": 135,
     "metadata": {},
     "output_type": "execute_result"
    }
   ],
   "source": [
    "X_train['garage'].isnull().sum()"
   ]
  },
  {
   "cell_type": "code",
   "execution_count": 136,
   "id": "796c1579",
   "metadata": {},
   "outputs": [
    {
     "data": {
      "text/plain": [
       "0"
      ]
     },
     "execution_count": 136,
     "metadata": {},
     "output_type": "execute_result"
    }
   ],
   "source": [
    "mode_value_train = X_train['garage'].mode()[0]\n",
    "X_train['garage'].fillna(mode_value_train, inplace=True)\n",
    "X_train['garage'].isnull().sum()"
   ]
  },
  {
   "cell_type": "markdown",
   "id": "b6673d71",
   "metadata": {},
   "source": [
    "#### X_test"
   ]
  },
  {
   "cell_type": "code",
   "execution_count": 137,
   "id": "24da8e03",
   "metadata": {},
   "outputs": [
    {
     "data": {
      "text/plain": [
       "garage\n",
       "False    40210\n",
       "True     17630\n",
       "Name: count, dtype: int64"
      ]
     },
     "execution_count": 137,
     "metadata": {},
     "output_type": "execute_result"
    }
   ],
   "source": [
    "X_test['garage'].value_counts()"
   ]
  },
  {
   "cell_type": "code",
   "execution_count": 138,
   "id": "21274f73",
   "metadata": {},
   "outputs": [
    {
     "data": {
      "text/plain": [
       "484"
      ]
     },
     "execution_count": 138,
     "metadata": {},
     "output_type": "execute_result"
    }
   ],
   "source": [
    "X_test['garage'].isnull().sum()"
   ]
  },
  {
   "cell_type": "code",
   "execution_count": 139,
   "id": "49bb4dd2",
   "metadata": {},
   "outputs": [
    {
     "data": {
      "text/plain": [
       "0"
      ]
     },
     "execution_count": 139,
     "metadata": {},
     "output_type": "execute_result"
    }
   ],
   "source": [
    "mode_value_test = X_test['garage'].mode()[0]\n",
    "X_test['garage'].fillna(mode_value_test, inplace=True)\n",
    "X_test['garage'].isnull().sum()"
   ]
  },
  {
   "cell_type": "markdown",
   "id": "580e3fac",
   "metadata": {},
   "source": [
    "### Cleaning Street"
   ]
  },
  {
   "cell_type": "markdown",
   "id": "21114bc1",
   "metadata": {},
   "source": [
    "#### X_train"
   ]
  },
  {
   "cell_type": "code",
   "execution_count": 140,
   "id": "ebea7e44",
   "metadata": {},
   "outputs": [
    {
     "data": {
      "text/plain": [
       "street\n",
       "True     133009\n",
       "False     96430\n",
       "Name: count, dtype: int64"
      ]
     },
     "execution_count": 140,
     "metadata": {},
     "output_type": "execute_result"
    }
   ],
   "source": [
    "X_train['street'].value_counts()"
   ]
  },
  {
   "cell_type": "code",
   "execution_count": 141,
   "id": "f62081ac",
   "metadata": {},
   "outputs": [
    {
     "data": {
      "text/plain": [
       "3731"
      ]
     },
     "execution_count": 141,
     "metadata": {},
     "output_type": "execute_result"
    }
   ],
   "source": [
    "X_train['street'].isnull().sum()"
   ]
  },
  {
   "cell_type": "code",
   "execution_count": 142,
   "id": "c05703e6",
   "metadata": {},
   "outputs": [
    {
     "data": {
      "text/plain": [
       "0"
      ]
     },
     "execution_count": 142,
     "metadata": {},
     "output_type": "execute_result"
    }
   ],
   "source": [
    "mode_value_train = X_train['street'].mode()[0]\n",
    "X_train['street'].fillna(mode_value_train, inplace=True)\n",
    "X_train['street'].isnull().sum()"
   ]
  },
  {
   "cell_type": "markdown",
   "id": "672aca46",
   "metadata": {},
   "source": [
    "#### X_test"
   ]
  },
  {
   "cell_type": "code",
   "execution_count": 143,
   "id": "941e6e59",
   "metadata": {},
   "outputs": [
    {
     "data": {
      "text/plain": [
       "street\n",
       "True     33491\n",
       "False    23933\n",
       "Name: count, dtype: int64"
      ]
     },
     "execution_count": 143,
     "metadata": {},
     "output_type": "execute_result"
    }
   ],
   "source": [
    "X_test['street'].value_counts()"
   ]
  },
  {
   "cell_type": "code",
   "execution_count": 144,
   "id": "99fdb4c4",
   "metadata": {},
   "outputs": [
    {
     "data": {
      "text/plain": [
       "900"
      ]
     },
     "execution_count": 144,
     "metadata": {},
     "output_type": "execute_result"
    }
   ],
   "source": [
    "X_test['street'].isnull().sum()"
   ]
  },
  {
   "cell_type": "code",
   "execution_count": 145,
   "id": "98c720c7",
   "metadata": {},
   "outputs": [
    {
     "data": {
      "text/plain": [
       "0"
      ]
     },
     "execution_count": 145,
     "metadata": {},
     "output_type": "execute_result"
    }
   ],
   "source": [
    "mode_value_test = X_test['street'].mode()[0]\n",
    "X_test['street'].fillna(mode_value_test, inplace=True)\n",
    "X_test['street'].isnull().sum()"
   ]
  },
  {
   "cell_type": "markdown",
   "id": "35a0e8a8",
   "metadata": {},
   "source": [
    "### Cleaning lot"
   ]
  },
  {
   "cell_type": "markdown",
   "id": "08f0db5f",
   "metadata": {},
   "source": [
    "#### X_train"
   ]
  },
  {
   "cell_type": "code",
   "execution_count": 146,
   "id": "dc6cff95",
   "metadata": {},
   "outputs": [
    {
     "data": {
      "text/plain": [
       "lot\n",
       "False    129907\n",
       "True     100471\n",
       "Name: count, dtype: int64"
      ]
     },
     "execution_count": 146,
     "metadata": {},
     "output_type": "execute_result"
    }
   ],
   "source": [
    "X_train['lot'].value_counts()"
   ]
  },
  {
   "cell_type": "code",
   "execution_count": 147,
   "id": "0abbb403",
   "metadata": {},
   "outputs": [
    {
     "data": {
      "text/plain": [
       "2792"
      ]
     },
     "execution_count": 147,
     "metadata": {},
     "output_type": "execute_result"
    }
   ],
   "source": [
    "X_train['lot'].isnull().sum()"
   ]
  },
  {
   "cell_type": "code",
   "execution_count": 148,
   "id": "a02ce492",
   "metadata": {},
   "outputs": [
    {
     "data": {
      "text/plain": [
       "0"
      ]
     },
     "execution_count": 148,
     "metadata": {},
     "output_type": "execute_result"
    }
   ],
   "source": [
    "mode_value_train = X_train['lot'].mode()[0]\n",
    "X_train['lot'].fillna(mode_value_train, inplace=True)\n",
    "X_train['lot'].isnull().sum()"
   ]
  },
  {
   "cell_type": "markdown",
   "id": "76e263da",
   "metadata": {},
   "source": [
    "#### X_test"
   ]
  },
  {
   "cell_type": "code",
   "execution_count": 149,
   "id": "74cbc851",
   "metadata": {},
   "outputs": [
    {
     "data": {
      "text/plain": [
       "lot\n",
       "False    32601\n",
       "True     25016\n",
       "Name: count, dtype: int64"
      ]
     },
     "execution_count": 149,
     "metadata": {},
     "output_type": "execute_result"
    }
   ],
   "source": [
    "X_test['lot'].value_counts()"
   ]
  },
  {
   "cell_type": "code",
   "execution_count": 150,
   "id": "70d40424",
   "metadata": {},
   "outputs": [
    {
     "data": {
      "text/plain": [
       "707"
      ]
     },
     "execution_count": 150,
     "metadata": {},
     "output_type": "execute_result"
    }
   ],
   "source": [
    "X_test['lot'].isnull().sum()"
   ]
  },
  {
   "cell_type": "code",
   "execution_count": 151,
   "id": "5c638bd5",
   "metadata": {},
   "outputs": [
    {
     "data": {
      "text/plain": [
       "0"
      ]
     },
     "execution_count": 151,
     "metadata": {},
     "output_type": "execute_result"
    }
   ],
   "source": [
    "mode_value_test = X_test['lot'].mode()[0]\n",
    "X_test['lot'].fillna(mode_value_test, inplace=True)\n",
    "X_test['lot'].isnull().sum()"
   ]
  },
  {
   "cell_type": "code",
   "execution_count": 152,
   "id": "3991253d",
   "metadata": {},
   "outputs": [
    {
     "name": "stdout",
     "output_type": "stream",
     "text": [
      "<class 'pandas.core.frame.DataFrame'>\n",
      "RangeIndex: 233170 entries, 0 to 233169\n",
      "Data columns (total 24 columns):\n",
      " #   Column                      Non-Null Count   Dtype  \n",
      "---  ------                      --------------   -----  \n",
      " 0   state                       233170 non-null  object \n",
      " 1   review_count                233170 non-null  int64  \n",
      " 2   is_open                     233170 non-null  int64  \n",
      " 3   BusinessAcceptsCreditCards  233170 non-null  float64\n",
      " 4   RestaurantsPriceRange2      233170 non-null  object \n",
      " 5   Restaurants                 233170 non-null  int64  \n",
      " 6   Food                        233170 non-null  int64  \n",
      " 7   Shopping                    233170 non-null  int64  \n",
      " 8   Home Services               233170 non-null  int64  \n",
      " 9   Beauty & Spas               233170 non-null  int64  \n",
      " 10  Nightlife                   233170 non-null  int64  \n",
      " 11  Health & Medical            233170 non-null  int64  \n",
      " 12  Local Services              233170 non-null  int64  \n",
      " 13  Bars                        233170 non-null  int64  \n",
      " 14  Automotive                  233170 non-null  int64  \n",
      " 15  garage                      233170 non-null  bool   \n",
      " 16  street                      233170 non-null  bool   \n",
      " 17  lot                         233170 non-null  bool   \n",
      " 18  valet                       233170 non-null  object \n",
      " 19  useful                      233170 non-null  int64  \n",
      " 20  funny                       233170 non-null  int64  \n",
      " 21  cool                        233170 non-null  int64  \n",
      " 22  business_stars              233170 non-null  float64\n",
      " 23  review_stars                233170 non-null  int64  \n",
      "dtypes: bool(3), float64(2), int64(16), object(3)\n",
      "memory usage: 38.0+ MB\n"
     ]
    }
   ],
   "source": [
    "X_train.info()"
   ]
  },
  {
   "cell_type": "code",
   "execution_count": 154,
   "id": "37b46ec8",
   "metadata": {},
   "outputs": [
    {
     "data": {
      "text/html": [
       "<div>\n",
       "<style scoped>\n",
       "    .dataframe tbody tr th:only-of-type {\n",
       "        vertical-align: middle;\n",
       "    }\n",
       "\n",
       "    .dataframe tbody tr th {\n",
       "        vertical-align: top;\n",
       "    }\n",
       "\n",
       "    .dataframe thead th {\n",
       "        text-align: right;\n",
       "    }\n",
       "</style>\n",
       "<table border=\"1\" class=\"dataframe\">\n",
       "  <thead>\n",
       "    <tr style=\"text-align: right;\">\n",
       "      <th></th>\n",
       "      <th>state</th>\n",
       "      <th>review_count</th>\n",
       "      <th>is_open</th>\n",
       "      <th>BusinessAcceptsCreditCards</th>\n",
       "      <th>RestaurantsPriceRange2</th>\n",
       "      <th>Restaurants</th>\n",
       "      <th>Food</th>\n",
       "      <th>Shopping</th>\n",
       "      <th>Home Services</th>\n",
       "      <th>Beauty &amp; Spas</th>\n",
       "      <th>...</th>\n",
       "      <th>Automotive</th>\n",
       "      <th>garage</th>\n",
       "      <th>street</th>\n",
       "      <th>lot</th>\n",
       "      <th>valet</th>\n",
       "      <th>useful</th>\n",
       "      <th>funny</th>\n",
       "      <th>cool</th>\n",
       "      <th>business_stars</th>\n",
       "      <th>review_stars</th>\n",
       "    </tr>\n",
       "  </thead>\n",
       "  <tbody>\n",
       "    <tr>\n",
       "      <th>0</th>\n",
       "      <td>PA</td>\n",
       "      <td>124</td>\n",
       "      <td>1</td>\n",
       "      <td>1.0</td>\n",
       "      <td>2</td>\n",
       "      <td>0</td>\n",
       "      <td>0</td>\n",
       "      <td>1</td>\n",
       "      <td>1</td>\n",
       "      <td>0</td>\n",
       "      <td>...</td>\n",
       "      <td>0</td>\n",
       "      <td>False</td>\n",
       "      <td>False</td>\n",
       "      <td>False</td>\n",
       "      <td>False</td>\n",
       "      <td>0</td>\n",
       "      <td>0</td>\n",
       "      <td>0</td>\n",
       "      <td>5.0</td>\n",
       "      <td>5</td>\n",
       "    </tr>\n",
       "    <tr>\n",
       "      <th>1</th>\n",
       "      <td>IN</td>\n",
       "      <td>81</td>\n",
       "      <td>1</td>\n",
       "      <td>1.0</td>\n",
       "      <td>2</td>\n",
       "      <td>0</td>\n",
       "      <td>0</td>\n",
       "      <td>0</td>\n",
       "      <td>0</td>\n",
       "      <td>0</td>\n",
       "      <td>...</td>\n",
       "      <td>0</td>\n",
       "      <td>False</td>\n",
       "      <td>True</td>\n",
       "      <td>False</td>\n",
       "      <td>False</td>\n",
       "      <td>3</td>\n",
       "      <td>0</td>\n",
       "      <td>1</td>\n",
       "      <td>4.5</td>\n",
       "      <td>5</td>\n",
       "    </tr>\n",
       "    <tr>\n",
       "      <th>2</th>\n",
       "      <td>PA</td>\n",
       "      <td>53</td>\n",
       "      <td>1</td>\n",
       "      <td>1.0</td>\n",
       "      <td>1</td>\n",
       "      <td>1</td>\n",
       "      <td>1</td>\n",
       "      <td>0</td>\n",
       "      <td>0</td>\n",
       "      <td>0</td>\n",
       "      <td>...</td>\n",
       "      <td>0</td>\n",
       "      <td>False</td>\n",
       "      <td>False</td>\n",
       "      <td>True</td>\n",
       "      <td>False</td>\n",
       "      <td>0</td>\n",
       "      <td>0</td>\n",
       "      <td>0</td>\n",
       "      <td>4.5</td>\n",
       "      <td>4</td>\n",
       "    </tr>\n",
       "    <tr>\n",
       "      <th>3</th>\n",
       "      <td>FL</td>\n",
       "      <td>908</td>\n",
       "      <td>1</td>\n",
       "      <td>1.0</td>\n",
       "      <td>2</td>\n",
       "      <td>1</td>\n",
       "      <td>0</td>\n",
       "      <td>0</td>\n",
       "      <td>0</td>\n",
       "      <td>0</td>\n",
       "      <td>...</td>\n",
       "      <td>0</td>\n",
       "      <td>False</td>\n",
       "      <td>True</td>\n",
       "      <td>True</td>\n",
       "      <td>True</td>\n",
       "      <td>3</td>\n",
       "      <td>1</td>\n",
       "      <td>2</td>\n",
       "      <td>3.5</td>\n",
       "      <td>4</td>\n",
       "    </tr>\n",
       "    <tr>\n",
       "      <th>4</th>\n",
       "      <td>FL</td>\n",
       "      <td>123</td>\n",
       "      <td>1</td>\n",
       "      <td>1.0</td>\n",
       "      <td>2</td>\n",
       "      <td>1</td>\n",
       "      <td>0</td>\n",
       "      <td>0</td>\n",
       "      <td>0</td>\n",
       "      <td>0</td>\n",
       "      <td>...</td>\n",
       "      <td>0</td>\n",
       "      <td>False</td>\n",
       "      <td>False</td>\n",
       "      <td>True</td>\n",
       "      <td>False</td>\n",
       "      <td>0</td>\n",
       "      <td>0</td>\n",
       "      <td>0</td>\n",
       "      <td>3.5</td>\n",
       "      <td>5</td>\n",
       "    </tr>\n",
       "  </tbody>\n",
       "</table>\n",
       "<p>5 rows × 24 columns</p>\n",
       "</div>"
      ],
      "text/plain": [
       "  state  review_count  is_open  BusinessAcceptsCreditCards  \\\n",
       "0    PA           124        1                         1.0   \n",
       "1    IN            81        1                         1.0   \n",
       "2    PA            53        1                         1.0   \n",
       "3    FL           908        1                         1.0   \n",
       "4    FL           123        1                         1.0   \n",
       "\n",
       "  RestaurantsPriceRange2  Restaurants  Food  Shopping  Home Services  \\\n",
       "0                      2            0     0         1              1   \n",
       "1                      2            0     0         0              0   \n",
       "2                      1            1     1         0              0   \n",
       "3                      2            1     0         0              0   \n",
       "4                      2            1     0         0              0   \n",
       "\n",
       "   Beauty & Spas  ...  Automotive  garage  street    lot  valet  useful  \\\n",
       "0              0  ...           0   False   False  False  False       0   \n",
       "1              0  ...           0   False    True  False  False       3   \n",
       "2              0  ...           0   False   False   True  False       0   \n",
       "3              0  ...           0   False    True   True   True       3   \n",
       "4              0  ...           0   False   False   True  False       0   \n",
       "\n",
       "   funny  cool business_stars  review_stars  \n",
       "0      0     0            5.0             5  \n",
       "1      0     1            4.5             5  \n",
       "2      0     0            4.5             4  \n",
       "3      1     2            3.5             4  \n",
       "4      0     0            3.5             5  \n",
       "\n",
       "[5 rows x 24 columns]"
      ]
     },
     "execution_count": 154,
     "metadata": {},
     "output_type": "execute_result"
    }
   ],
   "source": [
    "X_train.head()"
   ]
  },
  {
   "cell_type": "code",
   "execution_count": 110,
   "id": "4f3dc636",
   "metadata": {},
   "outputs": [],
   "source": [
    "numerical_data = X_train.select_dtypes(include=['integer','float']).columns"
   ]
  },
  {
   "cell_type": "code",
   "execution_count": 111,
   "id": "4f4d3916",
   "metadata": {},
   "outputs": [
    {
     "data": {
      "text/plain": [
       "Index(['review_count', 'is_open', 'BusinessAcceptsCreditCards', 'Restaurants',\n",
       "       'Food', 'Shopping', 'Home Services', 'Beauty & Spas', 'Nightlife',\n",
       "       'Health & Medical', 'Local Services', 'Bars', 'Automotive', 'useful',\n",
       "       'funny', 'cool', 'business_stars', 'review_stars'],\n",
       "      dtype='object')"
      ]
     },
     "execution_count": 111,
     "metadata": {},
     "output_type": "execute_result"
    }
   ],
   "source": [
    "numerical_data"
   ]
  },
  {
   "cell_type": "code",
   "execution_count": 112,
   "id": "869063e3",
   "metadata": {},
   "outputs": [],
   "source": [
    "# for column in numerical_data:\n",
    "#     plt.figure(figsize=(10, 6))\n",
    "#     plt.hist(X_train[column], bins=30, edgecolor='black')\n",
    "#     plt.title(f'Histogram of {column}')\n",
    "#     plt.xlabel(column)\n",
    "#     plt.ylabel('Frequency')\n",
    "#     plt.grid(axis='y', linestyle='--')\n",
    "#     plt.show()"
   ]
  },
  {
   "cell_type": "code",
   "execution_count": 113,
   "id": "d650ff6a",
   "metadata": {},
   "outputs": [],
   "source": [
    "# for column in numerical_data:\n",
    "#     plt.figure(figsize=(10, 6))\n",
    "#     plt.hist(X_train[column], bins=30, edgecolor='black')\n",
    "#     plt.title(f'Histogram of {column}')\n",
    "#     plt.xlabel(column)\n",
    "#     plt.ylabel('Frequency')\n",
    "#     plt.grid(axis='y', linestyle='--')\n",
    "#     plt.show()"
   ]
  },
  {
   "cell_type": "code",
   "execution_count": 114,
   "id": "1090c7d3",
   "metadata": {},
   "outputs": [
    {
     "data": {
      "text/plain": [
       "Index(['review_count', 'is_open', 'BusinessAcceptsCreditCards', 'Restaurants',\n",
       "       'Food', 'Shopping', 'Home Services', 'Beauty & Spas', 'Nightlife',\n",
       "       'Health & Medical', 'Local Services', 'Bars', 'Automotive', 'useful',\n",
       "       'funny', 'cool', 'business_stars', 'review_stars'],\n",
       "      dtype='object')"
      ]
     },
     "execution_count": 114,
     "metadata": {},
     "output_type": "execute_result"
    }
   ],
   "source": [
    "numerical_data"
   ]
  },
  {
   "cell_type": "code",
   "execution_count": null,
   "id": "0bb77f40",
   "metadata": {},
   "outputs": [],
   "source": []
  },
  {
   "cell_type": "code",
   "execution_count": 166,
   "id": "0d0aba90",
   "metadata": {},
   "outputs": [
    {
     "name": "stdout",
     "output_type": "stream",
     "text": [
      "<class 'pandas.core.frame.DataFrame'>\n",
      "RangeIndex: 233170 entries, 0 to 233169\n",
      "Data columns (total 24 columns):\n",
      " #   Column                      Non-Null Count   Dtype \n",
      "---  ------                      --------------   ----- \n",
      " 0   state                       233170 non-null  object\n",
      " 1   review_count                233170 non-null  int64 \n",
      " 2   is_open                     233170 non-null  bool  \n",
      " 3   BusinessAcceptsCreditCards  233170 non-null  bool  \n",
      " 4   RestaurantsPriceRange2      233170 non-null  object\n",
      " 5   Restaurants                 233170 non-null  bool  \n",
      " 6   Food                        233170 non-null  bool  \n",
      " 7   Shopping                    233170 non-null  bool  \n",
      " 8   Home Services               233170 non-null  bool  \n",
      " 9   Beauty & Spas               233170 non-null  bool  \n",
      " 10  Nightlife                   233170 non-null  bool  \n",
      " 11  Health & Medical            233170 non-null  bool  \n",
      " 12  Local Services              233170 non-null  bool  \n",
      " 13  Bars                        233170 non-null  bool  \n",
      " 14  Automotive                  233170 non-null  bool  \n",
      " 15  garage                      233170 non-null  bool  \n",
      " 16  street                      233170 non-null  bool  \n",
      " 17  lot                         233170 non-null  bool  \n",
      " 18  valet                       233170 non-null  object\n",
      " 19  useful                      233170 non-null  bool  \n",
      " 20  funny                       233170 non-null  bool  \n",
      " 21  cool                        233170 non-null  bool  \n",
      " 22  business_stars              233170 non-null  bool  \n",
      " 23  review_stars                233170 non-null  bool  \n",
      "dtypes: bool(20), int64(1), object(3)\n",
      "memory usage: 11.6+ MB\n"
     ]
    }
   ],
   "source": [
    "# Correct the column selection by using double square brackets\n",
    "X_train[['review_stars', 'business_stars', 'Automotive', 'is_open', 'BusinessAcceptsCreditCards', 'Restaurants', 'Food',\n",
    "         'Shopping', 'Home Services', 'Beauty & Spas', 'Nightlife', 'Health & Medical', 'Local Services', 'Bars',\n",
    "         'useful', 'funny', 'cool','valet']] = X_train[['review_stars', 'business_stars', 'Automotive', 'is_open', \n",
    "         'BusinessAcceptsCreditCards', 'Restaurants', 'Food', 'Shopping', 'Home Services', 'Beauty & Spas', 'Nightlife',\n",
    "         'Health & Medical', 'Local Services', 'Bars', 'useful', 'funny', 'cool','valet']].astype(bool)\n",
    "\n",
    "# Display the info of the dataframe\n",
    "X_train.info()\n"
   ]
  },
  {
   "cell_type": "code",
   "execution_count": 158,
   "id": "04f58398",
   "metadata": {},
   "outputs": [
    {
     "data": {
      "text/plain": [
       "validated\n",
       "1    116585\n",
       "0    116585\n",
       "Name: count, dtype: int64"
      ]
     },
     "execution_count": 158,
     "metadata": {},
     "output_type": "execute_result"
    }
   ],
   "source": [
    "y_train.value_counts()"
   ]
  },
  {
   "cell_type": "code",
   "execution_count": 159,
   "id": "8d451452",
   "metadata": {},
   "outputs": [
    {
     "data": {
      "text/plain": [
       "validated\n",
       "1    29177\n",
       "0    29147\n",
       "Name: count, dtype: int64"
      ]
     },
     "execution_count": 159,
     "metadata": {},
     "output_type": "execute_result"
    }
   ],
   "source": [
    "y_test.value_counts()"
   ]
  },
  {
   "cell_type": "code",
   "execution_count": 160,
   "id": "8b7bfcfb",
   "metadata": {},
   "outputs": [
    {
     "name": "stdout",
     "output_type": "stream",
     "text": [
      "(233170, 24)\n",
      "(233170,)\n",
      "(58324, 24)\n",
      "(58324,)\n"
     ]
    }
   ],
   "source": [
    "print(X_train.shape)\n",
    "print(y_train.shape)\n",
    "print(X_test.shape)\n",
    "print(y_test.shape)\n"
   ]
  },
  {
   "cell_type": "code",
   "execution_count": 132,
   "id": "b8a22cd5",
   "metadata": {},
   "outputs": [
    {
     "data": {
      "text/html": [
       "<div>\n",
       "<style scoped>\n",
       "    .dataframe tbody tr th:only-of-type {\n",
       "        vertical-align: middle;\n",
       "    }\n",
       "\n",
       "    .dataframe tbody tr th {\n",
       "        vertical-align: top;\n",
       "    }\n",
       "\n",
       "    .dataframe thead th {\n",
       "        text-align: right;\n",
       "    }\n",
       "</style>\n",
       "<table border=\"1\" class=\"dataframe\">\n",
       "  <thead>\n",
       "    <tr style=\"text-align: right;\">\n",
       "      <th></th>\n",
       "      <th>review_count</th>\n",
       "      <th>garage</th>\n",
       "      <th>street</th>\n",
       "      <th>lot</th>\n",
       "      <th>city_Abington Township</th>\n",
       "      <th>city_Affton</th>\n",
       "      <th>city_Aldan</th>\n",
       "      <th>city_Alton</th>\n",
       "      <th>city_Ambler</th>\n",
       "      <th>city_Antioch</th>\n",
       "      <th>...</th>\n",
       "      <th>business_stars_2.5</th>\n",
       "      <th>business_stars_3.0</th>\n",
       "      <th>business_stars_3.5</th>\n",
       "      <th>business_stars_4.0</th>\n",
       "      <th>business_stars_4.5</th>\n",
       "      <th>business_stars_5.0</th>\n",
       "      <th>review_stars_2</th>\n",
       "      <th>review_stars_3</th>\n",
       "      <th>review_stars_4</th>\n",
       "      <th>review_stars_5</th>\n",
       "    </tr>\n",
       "  </thead>\n",
       "  <tbody>\n",
       "    <tr>\n",
       "      <th>0</th>\n",
       "      <td>1.362938</td>\n",
       "      <td>-0.655394</td>\n",
       "      <td>-1.193878</td>\n",
       "      <td>-0.871881</td>\n",
       "      <td>0.0</td>\n",
       "      <td>0.0</td>\n",
       "      <td>0.0</td>\n",
       "      <td>0.0</td>\n",
       "      <td>0.0</td>\n",
       "      <td>0.0</td>\n",
       "      <td>...</td>\n",
       "      <td>0.0</td>\n",
       "      <td>0.0</td>\n",
       "      <td>0.0</td>\n",
       "      <td>1.0</td>\n",
       "      <td>0.0</td>\n",
       "      <td>0.0</td>\n",
       "      <td>0.0</td>\n",
       "      <td>0.0</td>\n",
       "      <td>0.0</td>\n",
       "      <td>1.0</td>\n",
       "    </tr>\n",
       "    <tr>\n",
       "      <th>1</th>\n",
       "      <td>1.049470</td>\n",
       "      <td>1.525799</td>\n",
       "      <td>0.837606</td>\n",
       "      <td>-0.871881</td>\n",
       "      <td>0.0</td>\n",
       "      <td>0.0</td>\n",
       "      <td>0.0</td>\n",
       "      <td>0.0</td>\n",
       "      <td>0.0</td>\n",
       "      <td>0.0</td>\n",
       "      <td>...</td>\n",
       "      <td>0.0</td>\n",
       "      <td>0.0</td>\n",
       "      <td>1.0</td>\n",
       "      <td>0.0</td>\n",
       "      <td>0.0</td>\n",
       "      <td>0.0</td>\n",
       "      <td>0.0</td>\n",
       "      <td>0.0</td>\n",
       "      <td>0.0</td>\n",
       "      <td>1.0</td>\n",
       "    </tr>\n",
       "    <tr>\n",
       "      <th>2</th>\n",
       "      <td>3.669162</td>\n",
       "      <td>-0.655394</td>\n",
       "      <td>0.837606</td>\n",
       "      <td>1.146946</td>\n",
       "      <td>0.0</td>\n",
       "      <td>0.0</td>\n",
       "      <td>0.0</td>\n",
       "      <td>0.0</td>\n",
       "      <td>0.0</td>\n",
       "      <td>0.0</td>\n",
       "      <td>...</td>\n",
       "      <td>0.0</td>\n",
       "      <td>0.0</td>\n",
       "      <td>1.0</td>\n",
       "      <td>0.0</td>\n",
       "      <td>0.0</td>\n",
       "      <td>0.0</td>\n",
       "      <td>0.0</td>\n",
       "      <td>0.0</td>\n",
       "      <td>1.0</td>\n",
       "      <td>0.0</td>\n",
       "    </tr>\n",
       "    <tr>\n",
       "      <th>3</th>\n",
       "      <td>0.027799</td>\n",
       "      <td>1.525799</td>\n",
       "      <td>0.837606</td>\n",
       "      <td>-0.871881</td>\n",
       "      <td>0.0</td>\n",
       "      <td>0.0</td>\n",
       "      <td>0.0</td>\n",
       "      <td>0.0</td>\n",
       "      <td>0.0</td>\n",
       "      <td>0.0</td>\n",
       "      <td>...</td>\n",
       "      <td>0.0</td>\n",
       "      <td>0.0</td>\n",
       "      <td>0.0</td>\n",
       "      <td>1.0</td>\n",
       "      <td>0.0</td>\n",
       "      <td>0.0</td>\n",
       "      <td>0.0</td>\n",
       "      <td>0.0</td>\n",
       "      <td>1.0</td>\n",
       "      <td>0.0</td>\n",
       "    </tr>\n",
       "    <tr>\n",
       "      <th>4</th>\n",
       "      <td>-0.603282</td>\n",
       "      <td>-0.655394</td>\n",
       "      <td>-1.193878</td>\n",
       "      <td>-0.871881</td>\n",
       "      <td>0.0</td>\n",
       "      <td>0.0</td>\n",
       "      <td>0.0</td>\n",
       "      <td>0.0</td>\n",
       "      <td>0.0</td>\n",
       "      <td>0.0</td>\n",
       "      <td>...</td>\n",
       "      <td>0.0</td>\n",
       "      <td>0.0</td>\n",
       "      <td>0.0</td>\n",
       "      <td>0.0</td>\n",
       "      <td>1.0</td>\n",
       "      <td>0.0</td>\n",
       "      <td>0.0</td>\n",
       "      <td>0.0</td>\n",
       "      <td>0.0</td>\n",
       "      <td>1.0</td>\n",
       "    </tr>\n",
       "    <tr>\n",
       "      <th>...</th>\n",
       "      <td>...</td>\n",
       "      <td>...</td>\n",
       "      <td>...</td>\n",
       "      <td>...</td>\n",
       "      <td>...</td>\n",
       "      <td>...</td>\n",
       "      <td>...</td>\n",
       "      <td>...</td>\n",
       "      <td>...</td>\n",
       "      <td>...</td>\n",
       "      <td>...</td>\n",
       "      <td>...</td>\n",
       "      <td>...</td>\n",
       "      <td>...</td>\n",
       "      <td>...</td>\n",
       "      <td>...</td>\n",
       "      <td>...</td>\n",
       "      <td>...</td>\n",
       "      <td>...</td>\n",
       "      <td>...</td>\n",
       "      <td>...</td>\n",
       "    </tr>\n",
       "    <tr>\n",
       "      <th>79995</th>\n",
       "      <td>-0.520354</td>\n",
       "      <td>-0.655394</td>\n",
       "      <td>-1.193878</td>\n",
       "      <td>1.146946</td>\n",
       "      <td>0.0</td>\n",
       "      <td>0.0</td>\n",
       "      <td>0.0</td>\n",
       "      <td>0.0</td>\n",
       "      <td>0.0</td>\n",
       "      <td>0.0</td>\n",
       "      <td>...</td>\n",
       "      <td>0.0</td>\n",
       "      <td>0.0</td>\n",
       "      <td>0.0</td>\n",
       "      <td>1.0</td>\n",
       "      <td>0.0</td>\n",
       "      <td>0.0</td>\n",
       "      <td>0.0</td>\n",
       "      <td>0.0</td>\n",
       "      <td>1.0</td>\n",
       "      <td>0.0</td>\n",
       "    </tr>\n",
       "    <tr>\n",
       "      <th>79996</th>\n",
       "      <td>-0.366938</td>\n",
       "      <td>1.525799</td>\n",
       "      <td>0.837606</td>\n",
       "      <td>-0.871881</td>\n",
       "      <td>0.0</td>\n",
       "      <td>0.0</td>\n",
       "      <td>0.0</td>\n",
       "      <td>0.0</td>\n",
       "      <td>0.0</td>\n",
       "      <td>0.0</td>\n",
       "      <td>...</td>\n",
       "      <td>0.0</td>\n",
       "      <td>1.0</td>\n",
       "      <td>0.0</td>\n",
       "      <td>0.0</td>\n",
       "      <td>0.0</td>\n",
       "      <td>0.0</td>\n",
       "      <td>1.0</td>\n",
       "      <td>0.0</td>\n",
       "      <td>0.0</td>\n",
       "      <td>0.0</td>\n",
       "    </tr>\n",
       "    <tr>\n",
       "      <th>79997</th>\n",
       "      <td>0.021994</td>\n",
       "      <td>1.525799</td>\n",
       "      <td>-1.193878</td>\n",
       "      <td>-0.871881</td>\n",
       "      <td>0.0</td>\n",
       "      <td>0.0</td>\n",
       "      <td>0.0</td>\n",
       "      <td>0.0</td>\n",
       "      <td>0.0</td>\n",
       "      <td>0.0</td>\n",
       "      <td>...</td>\n",
       "      <td>0.0</td>\n",
       "      <td>0.0</td>\n",
       "      <td>1.0</td>\n",
       "      <td>0.0</td>\n",
       "      <td>0.0</td>\n",
       "      <td>0.0</td>\n",
       "      <td>0.0</td>\n",
       "      <td>0.0</td>\n",
       "      <td>1.0</td>\n",
       "      <td>0.0</td>\n",
       "    </tr>\n",
       "    <tr>\n",
       "      <th>79998</th>\n",
       "      <td>-0.449866</td>\n",
       "      <td>-0.655394</td>\n",
       "      <td>0.837606</td>\n",
       "      <td>1.146946</td>\n",
       "      <td>0.0</td>\n",
       "      <td>0.0</td>\n",
       "      <td>0.0</td>\n",
       "      <td>0.0</td>\n",
       "      <td>0.0</td>\n",
       "      <td>0.0</td>\n",
       "      <td>...</td>\n",
       "      <td>0.0</td>\n",
       "      <td>0.0</td>\n",
       "      <td>0.0</td>\n",
       "      <td>1.0</td>\n",
       "      <td>0.0</td>\n",
       "      <td>0.0</td>\n",
       "      <td>0.0</td>\n",
       "      <td>0.0</td>\n",
       "      <td>0.0</td>\n",
       "      <td>1.0</td>\n",
       "    </tr>\n",
       "    <tr>\n",
       "      <th>79999</th>\n",
       "      <td>-0.477232</td>\n",
       "      <td>-0.655394</td>\n",
       "      <td>0.837606</td>\n",
       "      <td>-0.871881</td>\n",
       "      <td>0.0</td>\n",
       "      <td>0.0</td>\n",
       "      <td>0.0</td>\n",
       "      <td>0.0</td>\n",
       "      <td>0.0</td>\n",
       "      <td>0.0</td>\n",
       "      <td>...</td>\n",
       "      <td>0.0</td>\n",
       "      <td>0.0</td>\n",
       "      <td>1.0</td>\n",
       "      <td>0.0</td>\n",
       "      <td>0.0</td>\n",
       "      <td>0.0</td>\n",
       "      <td>0.0</td>\n",
       "      <td>1.0</td>\n",
       "      <td>0.0</td>\n",
       "      <td>0.0</td>\n",
       "    </tr>\n",
       "  </tbody>\n",
       "</table>\n",
       "<p>80000 rows × 698 columns</p>\n",
       "</div>"
      ],
      "text/plain": [
       "       review_count    garage    street       lot  city_Abington Township  \\\n",
       "0          1.362938 -0.655394 -1.193878 -0.871881                     0.0   \n",
       "1          1.049470  1.525799  0.837606 -0.871881                     0.0   \n",
       "2          3.669162 -0.655394  0.837606  1.146946                     0.0   \n",
       "3          0.027799  1.525799  0.837606 -0.871881                     0.0   \n",
       "4         -0.603282 -0.655394 -1.193878 -0.871881                     0.0   \n",
       "...             ...       ...       ...       ...                     ...   \n",
       "79995     -0.520354 -0.655394 -1.193878  1.146946                     0.0   \n",
       "79996     -0.366938  1.525799  0.837606 -0.871881                     0.0   \n",
       "79997      0.021994  1.525799 -1.193878 -0.871881                     0.0   \n",
       "79998     -0.449866 -0.655394  0.837606  1.146946                     0.0   \n",
       "79999     -0.477232 -0.655394  0.837606 -0.871881                     0.0   \n",
       "\n",
       "       city_Affton  city_Aldan  city_Alton  city_Ambler  city_Antioch  ...  \\\n",
       "0              0.0         0.0         0.0          0.0           0.0  ...   \n",
       "1              0.0         0.0         0.0          0.0           0.0  ...   \n",
       "2              0.0         0.0         0.0          0.0           0.0  ...   \n",
       "3              0.0         0.0         0.0          0.0           0.0  ...   \n",
       "4              0.0         0.0         0.0          0.0           0.0  ...   \n",
       "...            ...         ...         ...          ...           ...  ...   \n",
       "79995          0.0         0.0         0.0          0.0           0.0  ...   \n",
       "79996          0.0         0.0         0.0          0.0           0.0  ...   \n",
       "79997          0.0         0.0         0.0          0.0           0.0  ...   \n",
       "79998          0.0         0.0         0.0          0.0           0.0  ...   \n",
       "79999          0.0         0.0         0.0          0.0           0.0  ...   \n",
       "\n",
       "       business_stars_2.5  business_stars_3.0  business_stars_3.5  \\\n",
       "0                     0.0                 0.0                 0.0   \n",
       "1                     0.0                 0.0                 1.0   \n",
       "2                     0.0                 0.0                 1.0   \n",
       "3                     0.0                 0.0                 0.0   \n",
       "4                     0.0                 0.0                 0.0   \n",
       "...                   ...                 ...                 ...   \n",
       "79995                 0.0                 0.0                 0.0   \n",
       "79996                 0.0                 1.0                 0.0   \n",
       "79997                 0.0                 0.0                 1.0   \n",
       "79998                 0.0                 0.0                 0.0   \n",
       "79999                 0.0                 0.0                 1.0   \n",
       "\n",
       "       business_stars_4.0  business_stars_4.5  business_stars_5.0  \\\n",
       "0                     1.0                 0.0                 0.0   \n",
       "1                     0.0                 0.0                 0.0   \n",
       "2                     0.0                 0.0                 0.0   \n",
       "3                     1.0                 0.0                 0.0   \n",
       "4                     0.0                 1.0                 0.0   \n",
       "...                   ...                 ...                 ...   \n",
       "79995                 1.0                 0.0                 0.0   \n",
       "79996                 0.0                 0.0                 0.0   \n",
       "79997                 0.0                 0.0                 0.0   \n",
       "79998                 1.0                 0.0                 0.0   \n",
       "79999                 0.0                 0.0                 0.0   \n",
       "\n",
       "       review_stars_2  review_stars_3  review_stars_4  review_stars_5  \n",
       "0                 0.0             0.0             0.0             1.0  \n",
       "1                 0.0             0.0             0.0             1.0  \n",
       "2                 0.0             0.0             1.0             0.0  \n",
       "3                 0.0             0.0             1.0             0.0  \n",
       "4                 0.0             0.0             0.0             1.0  \n",
       "...               ...             ...             ...             ...  \n",
       "79995             0.0             0.0             1.0             0.0  \n",
       "79996             1.0             0.0             0.0             0.0  \n",
       "79997             0.0             0.0             1.0             0.0  \n",
       "79998             0.0             0.0             0.0             1.0  \n",
       "79999             0.0             1.0             0.0             0.0  \n",
       "\n",
       "[80000 rows x 698 columns]"
      ]
     },
     "execution_count": 132,
     "metadata": {},
     "output_type": "execute_result"
    }
   ],
   "source": [
    "X_train_encoded_scaled"
   ]
  },
  {
   "cell_type": "code",
   "execution_count": 140,
   "id": "889c1add",
   "metadata": {},
   "outputs": [
    {
     "data": {
      "image/png": "[encoded data removed]",
      "text/plain": [
       "<Figure size 1200x800 with 1 Axes>"
      ]
     },
     "metadata": {},
     "output_type": "display_data"
    }
   ],
   "source": [
    "from sklearn.ensemble import RandomForestClassifier\n",
    "y_train_binary = y_train.astype(int)\n",
    "\n",
    "# Step 2: Train the Random Forest model\n",
    "rf_model = RandomForestClassifier(n_estimators=100, random_state=42)\n",
    "rf_model.fit(X_train_encoded_scaled, y_train_binary)  # Using the converted binary labels\n",
    "\n",
    "# Step 3: Get feature importances\n",
    "feature_importances = rf_model.feature_importances_\n",
    "\n",
    "# Create a DataFrame for visualization\n",
    "importance_df = pd.DataFrame({'Feature': X_train_encoded_scaled.columns, 'Importance': feature_importances})\n",
    "\n",
    "# Step 4: Sort by importance and select the top 20 features\n",
    "top_20_features = importance_df.sort_values(by='Importance', ascending=False).head(20)\n",
    "\n",
    "# Step 5: Plot the top 20 feature importances\n",
    "plt.figure(figsize=(12, 8))\n",
    "sns.barplot(x='Importance', y='Feature', data=top_20_features, palette='viridis')\n",
    "plt.title('Top 20 Feature Importances for Predicting Validated (Random Forest)')\n",
    "plt.xlabel('Importance')\n",
    "plt.ylabel('Feature')\n",
    "plt.show()"
   ]
  },
  {
   "cell_type": "markdown",
   "id": "f528bb5a",
   "metadata": {},
   "source": [
    "currently keeeping all the features\n"
   ]
  },
  {
   "cell_type": "code",
   "execution_count": 169,
   "id": "bd0f59cb",
   "metadata": {},
   "outputs": [
    {
     "name": "stdout",
     "output_type": "stream",
     "text": [
      "<class 'pandas.core.frame.DataFrame'>\n",
      "RangeIndex: 233170 entries, 0 to 233169\n",
      "Data columns (total 24 columns):\n",
      " #   Column                      Non-Null Count   Dtype \n",
      "---  ------                      --------------   ----- \n",
      " 0   state                       233170 non-null  object\n",
      " 1   review_count                233170 non-null  int64 \n",
      " 2   is_open                     233170 non-null  bool  \n",
      " 3   BusinessAcceptsCreditCards  233170 non-null  bool  \n",
      " 4   RestaurantsPriceRange2      233170 non-null  object\n",
      " 5   Restaurants                 233170 non-null  bool  \n",
      " 6   Food                        233170 non-null  bool  \n",
      " 7   Shopping                    233170 non-null  bool  \n",
      " 8   Home Services               233170 non-null  bool  \n",
      " 9   Beauty & Spas               233170 non-null  bool  \n",
      " 10  Nightlife                   233170 non-null  bool  \n",
      " 11  Health & Medical            233170 non-null  bool  \n",
      " 12  Local Services              233170 non-null  bool  \n",
      " 13  Bars                        233170 non-null  bool  \n",
      " 14  Automotive                  233170 non-null  bool  \n",
      " 15  garage                      233170 non-null  bool  \n",
      " 16  street                      233170 non-null  bool  \n",
      " 17  lot                         233170 non-null  bool  \n",
      " 18  valet                       233170 non-null  bool  \n",
      " 19  useful                      233170 non-null  bool  \n",
      " 20  funny                       233170 non-null  bool  \n",
      " 21  cool                        233170 non-null  bool  \n",
      " 22  business_stars              233170 non-null  object\n",
      " 23  review_stars                233170 non-null  object\n",
      "dtypes: bool(19), int64(1), object(4)\n",
      "memory usage: 13.1+ MB\n"
     ]
    }
   ],
   "source": [
    "columns_to_object = ['state','review_stars', 'business_stars']\n",
    "\n",
    "# Define columns to convert to boolean\n",
    "columns_to_boolean = ['BusinessAcceptsCreditCards', 'Automotive', 'is_open', 'Restaurants', 'Food',\n",
    "                      'Shopping', 'Home Services', 'Beauty & Spas', 'Nightlife', 'Health & Medical', \n",
    "                      'Local Services', 'Bars', 'useful', 'funny', 'cool', 'valet']\n",
    "\n",
    "# Convert specified columns to object\n",
    "X_train[columns_to_object] = X_train[columns_to_object].astype(object)\n",
    "\n",
    "# Convert specified columns to boolean\n",
    "X_train[columns_to_boolean] = X_train[columns_to_boolean].astype(bool)\n",
    "\n",
    "# Display the info of the dataframe\n",
    "X_train.info()"
   ]
  },
  {
   "cell_type": "code",
   "execution_count": 170,
   "id": "bf66830d",
   "metadata": {},
   "outputs": [
    {
     "name": "stdout",
     "output_type": "stream",
     "text": [
      "<class 'pandas.core.frame.DataFrame'>\n",
      "Index: 58324 entries, 148398 to 224763\n",
      "Data columns (total 24 columns):\n",
      " #   Column                      Non-Null Count  Dtype \n",
      "---  ------                      --------------  ----- \n",
      " 0   state                       58324 non-null  object\n",
      " 1   review_count                58324 non-null  int64 \n",
      " 2   is_open                     58324 non-null  bool  \n",
      " 3   BusinessAcceptsCreditCards  58324 non-null  bool  \n",
      " 4   RestaurantsPriceRange2      58324 non-null  object\n",
      " 5   Restaurants                 58324 non-null  bool  \n",
      " 6   Food                        58324 non-null  bool  \n",
      " 7   Shopping                    58324 non-null  bool  \n",
      " 8   Home Services               58324 non-null  bool  \n",
      " 9   Beauty & Spas               58324 non-null  bool  \n",
      " 10  Nightlife                   58324 non-null  bool  \n",
      " 11  Health & Medical            58324 non-null  bool  \n",
      " 12  Local Services              58324 non-null  bool  \n",
      " 13  Bars                        58324 non-null  bool  \n",
      " 14  Automotive                  58324 non-null  bool  \n",
      " 15  garage                      58324 non-null  bool  \n",
      " 16  street                      58324 non-null  bool  \n",
      " 17  lot                         58324 non-null  bool  \n",
      " 18  valet                       58324 non-null  bool  \n",
      " 19  useful                      58324 non-null  bool  \n",
      " 20  funny                       58324 non-null  bool  \n",
      " 21  cool                        58324 non-null  bool  \n",
      " 22  business_stars              58324 non-null  object\n",
      " 23  review_stars                58324 non-null  object\n",
      "dtypes: bool(19), int64(1), object(4)\n",
      "memory usage: 3.7+ MB\n"
     ]
    }
   ],
   "source": [
    "X_test[columns_to_object] = X_test[columns_to_object].astype(object)\n",
    "\n",
    "# Convert specified columns to boolean\n",
    "X_test[columns_to_boolean] = X_test[columns_to_boolean].astype(bool)\n",
    "\n",
    "# Display the info of the dataframe\n",
    "X_test.info()"
   ]
  },
  {
   "cell_type": "code",
   "execution_count": 171,
   "id": "969fb2d5",
   "metadata": {},
   "outputs": [],
   "source": [
    "X_train.to_pickle('X_train.pkl')\n",
    "X_test.to_pickle('X_test.pkl')"
   ]
  },
  {
   "cell_type": "code",
   "execution_count": 162,
   "id": "cfbcfedf",
   "metadata": {},
   "outputs": [],
   "source": [
    "y_train_df = pd.DataFrame(y_train, columns=['validated'])\n",
    "y_test_df = pd.DataFrame(y_test, columns=['validated'])"
   ]
  },
  {
   "cell_type": "code",
   "execution_count": 173,
   "id": "d96e36fb",
   "metadata": {},
   "outputs": [],
   "source": [
    "y_train_df.to_pickle('y_train.pkl')\n",
    "y_test_df.to_pickle('y_test.pkl')"
   ]
  },
  {
   "cell_type": "code",
   "execution_count": 172,
   "id": "26404526",
   "metadata": {},
   "outputs": [],
   "source": [
    "merged_data.to_csv('merged_data.csv', index=False)"
   ]
  },
  {
   "cell_type": "code",
   "execution_count": null,
   "id": "52e667d2",
   "metadata": {},
   "outputs": [],
   "source": []
  }
 ],
 "metadata": {
  "kernelspec": {
   "display_name": "yelp_data",
   "language": "python",
   "name": "python3"
  },
  "language_info": {
   "codemirror_mode": {
    "name": "ipython",
    "version": 3
   },
   "file_extension": ".py",
   "mimetype": "text/x-python",
   "name": "python",
   "nbconvert_exporter": "python",
   "pygments_lexer": "ipython3",
   "version": "3.12.5"
  }
 },
 "nbformat": 4,
 "nbformat_minor": 5
}
